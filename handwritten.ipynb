{
 "cells": [
  {
   "cell_type": "markdown",
   "metadata": {},
   "source": [
    "## Importação de bibliotecas e extração dos dados"
   ]
  },
  {
   "cell_type": "code",
   "execution_count": 1,
   "metadata": {},
   "outputs": [],
   "source": [
    "import pandas as pd\n",
    "import deslib\n",
    "import pymfe"
   ]
  },
  {
   "cell_type": "code",
   "execution_count": 2,
   "metadata": {},
   "outputs": [],
   "source": [
    "file_names = [\"mfeat-fac\", \"mfeat-fou\", \"mfeat-kar\", \"mfeat-mor\", \"mfeat-pix\", \"mfeat-zer\"]\n",
    "dataset_names = [x.replace(\"-\",\"_\") for x in file_names]\n",
    "\n",
    "mfeat_fac = pd.read_csv(\"mfeat-fac\",delim_whitespace=True,header=None)\n",
    "mfeat_fou = pd.read_csv(\"mfeat-fou\",delim_whitespace=True,header=None)\n",
    "mfeat_kar = pd.read_csv(\"mfeat-kar\",delim_whitespace=True,header=None)\n",
    "mfeat_mor = pd.read_csv(\"mfeat-mor\",delim_whitespace=True,header=None)\n",
    "mfeat_pix = pd.read_csv(\"mfeat-pix\",delim_whitespace=True,header=None)\n",
    "mfeat_zer = pd.read_csv(\"mfeat-zer\",delim_whitespace=True,header=None)"
   ]
  },
  {
   "cell_type": "code",
   "execution_count": 3,
   "metadata": {},
   "outputs": [
    {
     "data": {
      "text/plain": [
       "((2000, 216), (2000, 76), (2000, 64), (2000, 6), (2000, 240), (2000, 47))"
      ]
     },
     "execution_count": 3,
     "metadata": {},
     "output_type": "execute_result"
    }
   ],
   "source": [
    "mfeat_fac.shape, mfeat_fou.shape, mfeat_kar.shape, mfeat_mor.shape, mfeat_pix.shape, mfeat_zer.shape"
   ]
  },
  {
   "cell_type": "markdown",
   "metadata": {},
   "source": [
    "#### In each file the 2000 patterns are stored in ASCI on 2000 lines. The first 200 patterns are of class '0', followed by sets of 200 patterns for each of the classes '1' - '9'. Corresponding patterns in different feature sets (files) correspond to the same original character."
   ]
  },
  {
   "cell_type": "code",
   "execution_count": 4,
   "metadata": {},
   "outputs": [
    {
     "data": {
      "text/plain": [
       "2000"
      ]
     },
     "execution_count": 4,
     "metadata": {},
     "output_type": "execute_result"
    }
   ],
   "source": [
    "y_data = []\n",
    "for _ in range(10): # Para cada uma das classes\n",
    "    for item in range(200): # Para cada uma das instâncias\n",
    "        y_data.append(_)\n",
    "\n",
    "len(y_data)"
   ]
  },
  {
   "cell_type": "markdown",
   "metadata": {},
   "source": [
    "## Extração de métricas de complexidade de apenas um dataset"
   ]
  },
  {
   "cell_type": "code",
   "execution_count": 5,
   "metadata": {},
   "outputs": [
    {
     "name": "stderr",
     "output_type": "stream",
     "text": [
      "c:\\Users\\Victor\\AppData\\Local\\Programs\\Python\\Python38-32\\lib\\site-packages\\tqdm\\auto.py:22: TqdmWarning: IProgress not found. Please update jupyter and ipywidgets. See https://ipywidgets.readthedocs.io/en/stable/user_install.html\n",
      "  from .autonotebook import tqdm as notebook_tqdm\n",
      "c:\\Users\\Victor\\AppData\\Local\\Programs\\Python\\Python38-32\\lib\\site-packages\\pymfe\\_internal.py:1568: UserWarning: It is not possible make equal discretization\n",
      "  warnings.warn(\"It is not possible make equal discretization\")\n"
     ]
    },
    {
     "name": "stdout",
     "output_type": "stream",
     "text": [
      "c1                                                             0.9999999999999998\n",
      "c2                                                                            0.0\n",
      "cls_coef                                                      0.11600217184875994\n",
      "density                                                        0.9216868434217108\n",
      "f1.mean                                                        0.5114091458342185\n",
      "f1.sd                                                         0.13935389439021795\n",
      "f1v.mean                                                      0.00196903563604571\n",
      "f1v.sd                                                      0.0014954935763594405\n",
      "f2.mean                                                     9.496172542333211e-26\n",
      "f2.sd                                                       6.369028416817056e-25\n",
      "f3.mean                                                        1.3390555555555557\n",
      "f3.sd                                                           0.781719638639291\n",
      "f4.mean                                                                       0.0\n",
      "f4.sd                                                                         0.0\n",
      "hubs.mean                                                      0.9046277635464075\n",
      "hubs.sd                                                        0.2887547966667681\n",
      "l1.mean                                                                       0.0\n",
      "l1.sd                                                                         0.0\n",
      "l2.mean                                                                       0.0\n",
      "l2.sd                                                                         0.0\n",
      "l3.mean                                                     5.555555555555437e-05\n",
      "l3.sd                                                      0.00037267799624995696\n",
      "lsc                                                                    0.97989775\n",
      "n1                                                                         0.0845\n",
      "n2.mean                                                       0.36504967135251254\n",
      "n2.sd                                                         0.07695765811750134\n",
      "n3.mean                                                                       nan\n",
      "n3.sd                                                                         nan\n",
      "n4.mean                                                                       nan\n",
      "n4.sd                                                                         nan\n",
      "t1                                                                          0.505\n",
      "t2                                                                          0.108\n",
      "t3                                                                          0.006\n",
      "t4                                                            0.05555555555555555\n"
     ]
    },
    {
     "name": "stderr",
     "output_type": "stream",
     "text": [
      "c:\\Users\\Victor\\AppData\\Local\\Programs\\Python\\Python38-32\\lib\\site-packages\\pymfe\\_internal.py:606: RuntimeWarning: Can't extract feature 'n3'.\n",
      " Exception message: ValueError(\"Unknown label type: 'unknown'\").\n",
      " Will set it as 'np.nan' for all summary functions.\n",
      "  warnings.warn(\n",
      "c:\\Users\\Victor\\AppData\\Local\\Programs\\Python\\Python38-32\\lib\\site-packages\\numpy\\core\\fromnumeric.py:3334: RuntimeWarning: Mean of empty slice.\n",
      "  return _methods._mean(a, axis=axis, dtype=dtype,\n",
      "c:\\Users\\Victor\\AppData\\Local\\Programs\\Python\\Python38-32\\lib\\site-packages\\numpy\\core\\_methods.py:161: RuntimeWarning: invalid value encountered in double_scalars\n",
      "  ret = ret.dtype.type(ret / rcount)\n",
      "c:\\Users\\Victor\\AppData\\Local\\Programs\\Python\\Python38-32\\lib\\site-packages\\pymfe\\_internal.py:731: RuntimeWarning: Can't summarize feature 'n3' with summary 'mean'. Will set it as 'np.nan'.\n",
      "  warnings.warn(\n",
      "c:\\Users\\Victor\\AppData\\Local\\Programs\\Python\\Python38-32\\lib\\site-packages\\pymfe\\_internal.py:731: RuntimeWarning: Can't summarize feature 'n3' with summary 'sd'. Will set it as 'np.nan'.\n",
      "  warnings.warn(\n",
      "c:\\Users\\Victor\\AppData\\Local\\Programs\\Python\\Python38-32\\lib\\site-packages\\pymfe\\_internal.py:606: RuntimeWarning: Can't extract feature 'n4'.\n",
      " Exception message: ValueError(\"Unknown label type: 'unknown'\").\n",
      " Will set it as 'np.nan' for all summary functions.\n",
      "  warnings.warn(\n",
      "c:\\Users\\Victor\\AppData\\Local\\Programs\\Python\\Python38-32\\lib\\site-packages\\numpy\\core\\fromnumeric.py:3334: RuntimeWarning: Mean of empty slice.\n",
      "  return _methods._mean(a, axis=axis, dtype=dtype,\n",
      "c:\\Users\\Victor\\AppData\\Local\\Programs\\Python\\Python38-32\\lib\\site-packages\\numpy\\core\\_methods.py:161: RuntimeWarning: invalid value encountered in double_scalars\n",
      "  ret = ret.dtype.type(ret / rcount)\n",
      "c:\\Users\\Victor\\AppData\\Local\\Programs\\Python\\Python38-32\\lib\\site-packages\\pymfe\\_internal.py:731: RuntimeWarning: Can't summarize feature 'n4' with summary 'mean'. Will set it as 'np.nan'.\n",
      "  warnings.warn(\n",
      "c:\\Users\\Victor\\AppData\\Local\\Programs\\Python\\Python38-32\\lib\\site-packages\\pymfe\\_internal.py:731: RuntimeWarning: Can't summarize feature 'n4' with summary 'sd'. Will set it as 'np.nan'.\n",
      "  warnings.warn(\n"
     ]
    }
   ],
   "source": [
    "from pymfe.mfe import MFE\n",
    "import numpy as np\n",
    "\n",
    "mfe = MFE(groups = ['complexity'])\n",
    "mfe.fit(mfeat_fac.values,y_data)\n",
    "ft = mfe.extract()\n",
    "print(\"\\n\".join(\"{:50} {:30}\".format(x, y) for x, y in zip(ft[0], ft[1])))"
   ]
  },
  {
   "cell_type": "code",
   "execution_count": 6,
   "metadata": {},
   "outputs": [],
   "source": [
    "complexity_metrics = {}\n",
    "for x, y in zip(ft[0], ft[1]):\n",
    "    complexity_metrics[x] = y"
   ]
  },
  {
   "cell_type": "code",
   "execution_count": 7,
   "metadata": {},
   "outputs": [
    {
     "data": {
      "text/plain": [
       "{'c1': 0.9999999999999998,\n",
       " 'c2': 0.0,\n",
       " 'cls_coef': 0.11600217184875994,\n",
       " 'density': 0.9216868434217108,\n",
       " 'f1.mean': 0.5114091458342185,\n",
       " 'f1.sd': 0.13935389439021795,\n",
       " 'f1v.mean': 0.00196903563604571,\n",
       " 'f1v.sd': 0.0014954935763594405,\n",
       " 'f2.mean': 9.496172542333211e-26,\n",
       " 'f2.sd': 6.369028416817056e-25,\n",
       " 'f3.mean': 1.3390555555555557,\n",
       " 'f3.sd': 0.781719638639291,\n",
       " 'f4.mean': 0.0,\n",
       " 'f4.sd': 0.0,\n",
       " 'hubs.mean': 0.9046277635464075,\n",
       " 'hubs.sd': 0.2887547966667681,\n",
       " 'l1.mean': 0.0,\n",
       " 'l1.sd': 0.0,\n",
       " 'l2.mean': 0.0,\n",
       " 'l2.sd': 0.0,\n",
       " 'l3.mean': 5.555555555555437e-05,\n",
       " 'l3.sd': 0.00037267799624995696,\n",
       " 'lsc': 0.97989775,\n",
       " 'n1': 0.0845,\n",
       " 'n2.mean': 0.36504967135251254,\n",
       " 'n2.sd': 0.07695765811750134,\n",
       " 'n3.mean': nan,\n",
       " 'n3.sd': nan,\n",
       " 'n4.mean': nan,\n",
       " 'n4.sd': nan,\n",
       " 't1': 0.505,\n",
       " 't2': 0.108,\n",
       " 't3': 0.006,\n",
       " 't4': 0.05555555555555555}"
      ]
     },
     "execution_count": 7,
     "metadata": {},
     "output_type": "execute_result"
    }
   ],
   "source": [
    "complexity_metrics"
   ]
  },
  {
   "cell_type": "markdown",
   "metadata": {},
   "source": [
    "# Extração de métricas de complexidade de todos os datasets"
   ]
  },
  {
   "cell_type": "code",
   "execution_count": 34,
   "metadata": {},
   "outputs": [],
   "source": [
    "y_data = np.array(y_data)"
   ]
  },
  {
   "cell_type": "code",
   "execution_count": 35,
   "metadata": {},
   "outputs": [
    {
     "name": "stdout",
     "output_type": "stream",
     "text": [
      "-------------- mfeat_fac -----------------\n"
     ]
    },
    {
     "name": "stderr",
     "output_type": "stream",
     "text": [
      "c:\\Users\\Victor\\AppData\\Local\\Programs\\Python\\Python38-32\\lib\\site-packages\\pymfe\\_internal.py:1568: UserWarning: It is not possible make equal discretization\n",
      "  warnings.warn(\"It is not possible make equal discretization\")\n"
     ]
    },
    {
     "name": "stdout",
     "output_type": "stream",
     "text": [
      "-------------- mfeat_fou -----------------\n",
      "-------------- mfeat_kar -----------------\n",
      "-------------- mfeat_mor -----------------\n"
     ]
    },
    {
     "name": "stderr",
     "output_type": "stream",
     "text": [
      "c:\\Users\\Victor\\AppData\\Local\\Programs\\Python\\Python38-32\\lib\\site-packages\\pymfe\\_internal.py:1568: UserWarning: It is not possible make equal discretization\n",
      "  warnings.warn(\"It is not possible make equal discretization\")\n",
      "c:\\Users\\Victor\\AppData\\Local\\Programs\\Python\\Python38-32\\lib\\site-packages\\pymfe\\complexity.py:990: RuntimeWarning: invalid value encountered in true_divide\n",
      "  f2[ind] = np.prod(np.maximum(0.0, minmax - maxmin) / (maxmax - minmin))\n",
      "c:\\Users\\Victor\\AppData\\Local\\Programs\\Python\\Python38-32\\lib\\site-packages\\pymfe\\_internal.py:731: RuntimeWarning: Can't summarize feature 'f2' with summary 'mean'. Will set it as 'np.nan'.\n",
      "  warnings.warn(\n",
      "c:\\Users\\Victor\\AppData\\Local\\Programs\\Python\\Python38-32\\lib\\site-packages\\pymfe\\_internal.py:731: RuntimeWarning: Can't summarize feature 'f2' with summary 'sd'. Will set it as 'np.nan'.\n",
      "  warnings.warn(\n",
      "c:\\Users\\Victor\\AppData\\Local\\Programs\\Python\\Python38-32\\lib\\site-packages\\pymfe\\complexity.py:1742: RuntimeWarning: divide by zero encountered in true_divide\n",
      "  intra_extra[cur_ind:next_ind] = intra / extra\n",
      "c:\\Users\\Victor\\AppData\\Local\\Programs\\Python\\Python38-32\\lib\\site-packages\\pymfe\\complexity.py:1742: RuntimeWarning: invalid value encountered in true_divide\n",
      "  intra_extra[cur_ind:next_ind] = intra / extra\n",
      "c:\\Users\\Victor\\AppData\\Local\\Programs\\Python\\Python38-32\\lib\\site-packages\\pymfe\\_internal.py:731: RuntimeWarning: Can't summarize feature 'n2' with summary 'mean'. Will set it as 'np.nan'.\n",
      "  warnings.warn(\n",
      "c:\\Users\\Victor\\AppData\\Local\\Programs\\Python\\Python38-32\\lib\\site-packages\\pymfe\\_internal.py:731: RuntimeWarning: Can't summarize feature 'n2' with summary 'sd'. Will set it as 'np.nan'.\n",
      "  warnings.warn(\n"
     ]
    },
    {
     "name": "stdout",
     "output_type": "stream",
     "text": [
      "-------------- mfeat_pix -----------------\n"
     ]
    },
    {
     "name": "stderr",
     "output_type": "stream",
     "text": [
      "c:\\Users\\Victor\\AppData\\Local\\Programs\\Python\\Python38-32\\lib\\site-packages\\pymfe\\_internal.py:1568: UserWarning: It is not possible make equal discretization\n",
      "  warnings.warn(\"It is not possible make equal discretization\")\n",
      "c:\\Users\\Victor\\AppData\\Local\\Programs\\Python\\Python38-32\\lib\\site-packages\\pymfe\\complexity.py:990: RuntimeWarning: invalid value encountered in true_divide\n",
      "  f2[ind] = np.prod(np.maximum(0.0, minmax - maxmin) / (maxmax - minmin))\n",
      "c:\\Users\\Victor\\AppData\\Local\\Programs\\Python\\Python38-32\\lib\\site-packages\\pymfe\\_internal.py:731: RuntimeWarning: Can't summarize feature 'f2' with summary 'mean'. Will set it as 'np.nan'.\n",
      "  warnings.warn(\n",
      "c:\\Users\\Victor\\AppData\\Local\\Programs\\Python\\Python38-32\\lib\\site-packages\\pymfe\\_internal.py:731: RuntimeWarning: Can't summarize feature 'f2' with summary 'sd'. Will set it as 'np.nan'.\n",
      "  warnings.warn(\n"
     ]
    },
    {
     "name": "stdout",
     "output_type": "stream",
     "text": [
      "-------------- mfeat_zer -----------------\n"
     ]
    }
   ],
   "source": [
    "sets = [mfeat_fac, mfeat_fou, mfeat_kar, mfeat_mor, mfeat_pix, mfeat_zer]\n",
    "\n",
    "# instanciar uma estrutura que armazena valores de complexidade\n",
    "\n",
    "complexity = {\"Dimensionality\":[],\n",
    "    #\"c1\":[], # Entropy of Class proportions\n",
    "           #\"c2\":[], # Imbalance ratio, também adaptada para problemas multiclasse\n",
    "           \"f1.mean\":[], # Fisher's Discriminant Ratio\n",
    "           \"f2.mean\":[], # Volume of Overlapping Region\n",
    "           \"l1.mean\":[], # Sum of the error istance by Linear Programming (SVM optimization)\n",
    "           \"l2.mean\":[], # Error rate of the linear classifier (SVM)\n",
    "           \"l3.mean\":[], # Non-linearity of a Linear Classifier\n",
    "           \"n1\":[], # Fraction of borderline points\n",
    "           \"n2.mean\":[], # Ratio of intra and extra class nearest neighbor distance\n",
    "           \"n3.mean\":[] # Ratio of intra and extra class nearest neighbor distance.\n",
    "        }\n",
    "\n",
    "dataset_labels = ['mfeat_fac', 'mfeat_fou', 'mfeat_kar', 'mfeat_mor', 'mfeat_pix', 'mfeat_zer']\n",
    "\n",
    "for dataset, label in zip(sets,dataset_labels):\n",
    "    # calcular complexidade de cada dataset\n",
    "    print('--------------',label,'-----------------')\n",
    "    mfe = MFE(groups = ['complexity'])\n",
    "    mfe.fit(dataset.values,y_data)\n",
    "    ft = mfe.extract()\n",
    "\n",
    "    dataset_complexity_measures = {}\n",
    "    for x, y in zip(ft[0], ft[1]):\n",
    "        dataset_complexity_measures[x] = y\n",
    "    #armazenar valores de interesse do seu dataset\n",
    "\n",
    "    complexity[\"Dimensionality\"].append(dataset.shape[1])\n",
    "\n",
    "    for metafeature in ['f1.mean','f2.mean','l1.mean','l2.mean','l3.mean','n1','n2.mean','n3.mean']:\n",
    "        complexity[metafeature].append(dataset_complexity_measures[metafeature])\n"
   ]
  },
  {
   "cell_type": "code",
   "execution_count": 9,
   "metadata": {},
   "outputs": [
    {
     "data": {
      "text/plain": [
       "{'Dimensionality': [216, 76, 64, 6, 240, 47],\n",
       " 'f1.mean': [0.5114091458342185,\n",
       "  0.7629594309785904,\n",
       "  0.7614981963376197,\n",
       "  0.17870763635764195,\n",
       "  0.6364311392285728,\n",
       "  0.6255584110882542],\n",
       " 'f2.mean': [9.496172542333211e-26,\n",
       "  5.052475763381846e-06,\n",
       "  2.7342828762484974e-08,\n",
       "  nan,\n",
       "  nan,\n",
       "  0.005288058022137935],\n",
       " 'l1.mean': [0.0,\n",
       "  0.003287860227947016,\n",
       "  0.0,\n",
       "  0.02635689088157684,\n",
       "  0.0,\n",
       "  0.0059104887674534465],\n",
       " 'l2.mean': [0.0,\n",
       "  0.004444444444444441,\n",
       "  0.0,\n",
       "  0.0385,\n",
       "  0.0,\n",
       "  0.011111111111111103],\n",
       " 'l3.mean': [5.555555555555437e-05,\n",
       "  0.015333333333333329,\n",
       "  0.0011111111111111046,\n",
       "  0.03638888888888887,\n",
       "  0.0,\n",
       "  0.021277777777777764],\n",
       " 'n1': [0.0845, 0.2995, 0.081, 0.413, 0.0625, 0.295],\n",
       " 'n2.mean': [0.36504967135251254,\n",
       "  0.4401776010348133,\n",
       "  0.4132357341024008,\n",
       "  nan,\n",
       "  0.3630857884481563,\n",
       "  0.47611097204974856],\n",
       " 'n3.mean': [nan, nan, nan, nan, nan, nan]}"
      ]
     },
     "execution_count": 9,
     "metadata": {},
     "output_type": "execute_result"
    }
   ],
   "source": [
    "complexity"
   ]
  },
  {
   "cell_type": "markdown",
   "metadata": {},
   "source": [
    "### Modificação da métrica C1 (há um erro na documentação)"
   ]
  },
  {
   "cell_type": "code",
   "execution_count": 12,
   "metadata": {},
   "outputs": [],
   "source": [
    "#complexity[\"c1\"] = [-2*(item - 1) for item in complexity[\"c1\"]]"
   ]
  },
  {
   "cell_type": "code",
   "execution_count": 13,
   "metadata": {},
   "outputs": [],
   "source": [
    "datasets_dim = complexity[\"Dimensionality\"]\n",
    "dataset_labels = [x + \"_\" + str(y) for x, y in zip(dataset_labels,datasets_dim)]\n",
    "\n",
    "data = pd.DataFrame(complexity, index = dataset_labels)\n",
    "\n",
    "data.drop(columns = \"Dimensionality\",inplace=True)\n",
    "\n"
   ]
  },
  {
   "cell_type": "code",
   "execution_count": 14,
   "metadata": {},
   "outputs": [
    {
     "data": {
      "text/html": [
       "<div>\n",
       "<style scoped>\n",
       "    .dataframe tbody tr th:only-of-type {\n",
       "        vertical-align: middle;\n",
       "    }\n",
       "\n",
       "    .dataframe tbody tr th {\n",
       "        vertical-align: top;\n",
       "    }\n",
       "\n",
       "    .dataframe thead th {\n",
       "        text-align: right;\n",
       "    }\n",
       "</style>\n",
       "<table border=\"1\" class=\"dataframe\">\n",
       "  <thead>\n",
       "    <tr style=\"text-align: right;\">\n",
       "      <th></th>\n",
       "      <th>f1.mean</th>\n",
       "      <th>f2.mean</th>\n",
       "      <th>l1.mean</th>\n",
       "      <th>l2.mean</th>\n",
       "      <th>l3.mean</th>\n",
       "      <th>n1</th>\n",
       "      <th>n2.mean</th>\n",
       "      <th>n3.mean</th>\n",
       "    </tr>\n",
       "  </thead>\n",
       "  <tbody>\n",
       "    <tr>\n",
       "      <th>mfeat_fac_216</th>\n",
       "      <td>0.511409</td>\n",
       "      <td>9.496173e-26</td>\n",
       "      <td>0.000000</td>\n",
       "      <td>0.000000</td>\n",
       "      <td>0.000056</td>\n",
       "      <td>0.0845</td>\n",
       "      <td>0.365050</td>\n",
       "      <td>NaN</td>\n",
       "    </tr>\n",
       "    <tr>\n",
       "      <th>mfeat_fou_76</th>\n",
       "      <td>0.762959</td>\n",
       "      <td>5.052476e-06</td>\n",
       "      <td>0.003288</td>\n",
       "      <td>0.004444</td>\n",
       "      <td>0.015333</td>\n",
       "      <td>0.2995</td>\n",
       "      <td>0.440178</td>\n",
       "      <td>NaN</td>\n",
       "    </tr>\n",
       "    <tr>\n",
       "      <th>mfeat_kar_64</th>\n",
       "      <td>0.761498</td>\n",
       "      <td>2.734283e-08</td>\n",
       "      <td>0.000000</td>\n",
       "      <td>0.000000</td>\n",
       "      <td>0.001111</td>\n",
       "      <td>0.0810</td>\n",
       "      <td>0.413236</td>\n",
       "      <td>NaN</td>\n",
       "    </tr>\n",
       "    <tr>\n",
       "      <th>mfeat_mor_6</th>\n",
       "      <td>0.178708</td>\n",
       "      <td>NaN</td>\n",
       "      <td>0.026357</td>\n",
       "      <td>0.038500</td>\n",
       "      <td>0.036389</td>\n",
       "      <td>0.4130</td>\n",
       "      <td>NaN</td>\n",
       "      <td>NaN</td>\n",
       "    </tr>\n",
       "    <tr>\n",
       "      <th>mfeat_pix_240</th>\n",
       "      <td>0.636431</td>\n",
       "      <td>NaN</td>\n",
       "      <td>0.000000</td>\n",
       "      <td>0.000000</td>\n",
       "      <td>0.000000</td>\n",
       "      <td>0.0625</td>\n",
       "      <td>0.363086</td>\n",
       "      <td>NaN</td>\n",
       "    </tr>\n",
       "    <tr>\n",
       "      <th>mfeat_zer_47</th>\n",
       "      <td>0.625558</td>\n",
       "      <td>5.288058e-03</td>\n",
       "      <td>0.005910</td>\n",
       "      <td>0.011111</td>\n",
       "      <td>0.021278</td>\n",
       "      <td>0.2950</td>\n",
       "      <td>0.476111</td>\n",
       "      <td>NaN</td>\n",
       "    </tr>\n",
       "  </tbody>\n",
       "</table>\n",
       "</div>"
      ],
      "text/plain": [
       "                f1.mean       f2.mean   l1.mean   l2.mean   l3.mean      n1  \\\n",
       "mfeat_fac_216  0.511409  9.496173e-26  0.000000  0.000000  0.000056  0.0845   \n",
       "mfeat_fou_76   0.762959  5.052476e-06  0.003288  0.004444  0.015333  0.2995   \n",
       "mfeat_kar_64   0.761498  2.734283e-08  0.000000  0.000000  0.001111  0.0810   \n",
       "mfeat_mor_6    0.178708           NaN  0.026357  0.038500  0.036389  0.4130   \n",
       "mfeat_pix_240  0.636431           NaN  0.000000  0.000000  0.000000  0.0625   \n",
       "mfeat_zer_47   0.625558  5.288058e-03  0.005910  0.011111  0.021278  0.2950   \n",
       "\n",
       "                n2.mean  n3.mean  \n",
       "mfeat_fac_216  0.365050      NaN  \n",
       "mfeat_fou_76   0.440178      NaN  \n",
       "mfeat_kar_64   0.413236      NaN  \n",
       "mfeat_mor_6         NaN      NaN  \n",
       "mfeat_pix_240  0.363086      NaN  \n",
       "mfeat_zer_47   0.476111      NaN  "
      ]
     },
     "execution_count": 14,
     "metadata": {},
     "output_type": "execute_result"
    }
   ],
   "source": [
    "data"
   ]
  },
  {
   "cell_type": "code",
   "execution_count": 15,
   "metadata": {},
   "outputs": [
    {
     "data": {
      "image/png": "[encoded data removed]",
      "text/plain": [
       "<Figure size 432x288 with 1 Axes>"
      ]
     },
     "metadata": {
      "needs_background": "light"
     },
     "output_type": "display_data"
    }
   ],
   "source": [
    "import matplotlib.pyplot as plt\n",
    "import seaborn as sns\n",
    "\n",
    "\n",
    "# Disposição em diagramas do tipo heatmap\n",
    "ax = sns.heatmap(data,\n",
    "                 annot=True,\n",
    "                 cbar=False,\n",
    "                 cmap=\"Reds\",\n",
    "                 xticklabels=True,\n",
    "                 yticklabels=True,\n",
    "                 linewidth=.5)\n",
    "ax.set_xticklabels(ax.get_xticklabels(), rotation=0)\n",
    "ax.set_yticklabels(ax.get_yticklabels(), rotation=0)\n",
    "plt.title(\"Complexity Metrics\")\n",
    "plt.xlabel(\"Complexity Metric\")\n",
    "plt.ylabel(\"Dataset + Dimensionality\")\n",
    "plt.show()"
   ]
  },
  {
   "cell_type": "code",
   "execution_count": 16,
   "metadata": {},
   "outputs": [],
   "source": [
    "# Planos:\n",
    "# Fazer um esquema de DES para as visões\n",
    "# Fazer um esquema de modelos monlíticos para as visões\n",
    "# Construir uma etapa de generalização em pilha para agregação (lmao se vira)\n",
    "## para cada view, extrair as saídas correspondentes\n",
    "## Treinar um \"meta-modelo\" para ajustar as saídas à clçasse predita corretamente (será?)\n",
    "# \n",
    "# "
   ]
  },
  {
   "cell_type": "markdown",
   "metadata": {},
   "source": [
    "## Aplicação de modelos DCS e Ensemble"
   ]
  },
  {
   "cell_type": "markdown",
   "metadata": {},
   "source": [
    "#### Funções para aprendizado"
   ]
  },
  {
   "cell_type": "code",
   "execution_count": 17,
   "metadata": {},
   "outputs": [],
   "source": [
    "from sklearn.model_selection import train_test_split\n",
    "from deslib.des import METADES\n",
    "from deslib.des import KNORAE\n",
    "\n",
    "# Split primeiro, treinamento depois\n",
    "\n",
    "\n",
    "def split_data_ensembles(X, y, rng = 42):\n",
    "      # Testando a abordagem DES para somente uma visão\n",
    "\n",
    "      X_train, X_test, y_train, y_test = train_test_split(X, y, test_size=0.33,\n",
    "                                                          random_state=rng)\n",
    "\n",
    "      # Train data splitting into Training and Domains of Competence (dsel) sets\n",
    "      X_train, X_dsel, y_train, y_dsel = train_test_split(X_train, y_train,\n",
    "                                                          test_size=0.5,\n",
    "                                                          random_state=rng)\n",
    "      \n",
    "      return X_train, X_test, X_dsel, y_train, y_test, y_dsel\n",
    "\n",
    "\n",
    "\n",
    "def ensemble_KNORA(X_train, \n",
    "                   X_test, \n",
    "                   X_dsel, \n",
    "                   y_train, \n",
    "                   y_test, \n",
    "                   y_dsel, \n",
    "                   rng = 42):\n",
    "      \n",
    "      # Testando a abordagem DES para somente uma visão\n",
    "\n",
    "      kne = KNORAE(random_state=rng)\n",
    "\n",
    "      kne.fit(X_dsel, y_dsel)\n",
    "      # VERIFICAR DEPOIS O QUE PRECISA FAZER COM X_TRAIN E Y_TRAIN\n",
    "      score = kne.score(X_test, y_test)\n",
    "      predictions = kne.predict(X_test)\n",
    "\n",
    "      # Verify prediction accuracy\n",
    "      #print(sum([x == y for x,y in zip(predictions, y_test)])/len(y_test))\n",
    "\n",
    "      # Calculate classification accuracy of each technique\n",
    "      print('Classification accuracy KNORA-Eliminate: ',\n",
    "            score)\n",
    "      return predictions, score\n",
    "\n",
    "def ensemble_META_DES(X_train, \n",
    "                      X_test, \n",
    "                      X_dsel, \n",
    "                      y_train, \n",
    "                      y_test, \n",
    "                      y_dsel, \n",
    "                      rng = 42):\n",
    "      \n",
    "      # Testando a abordagem DES para somente uma visão\n",
    "\n",
    "      meta = METADES(random_state=rng)\n",
    "\n",
    "      meta.fit(X_dsel, y_dsel)\n",
    "      # VERIFICAR DEPOIS O QUE PRECISA FAZER COM X_TRAIN E Y_TRAIN\n",
    "      score = meta.score(X_test, y_test)\n",
    "      predictions = meta.predict(X_test)\n",
    "\n",
    "      # Calculate classification accuracy of each technique\n",
    "      print('Classification accuracy META-DES: ', score)\n",
    "      return predictions, score\n"
   ]
  },
  {
   "cell_type": "code",
   "execution_count": 18,
   "metadata": {},
   "outputs": [
    {
     "name": "stdout",
     "output_type": "stream",
     "text": [
      "Dataset: mfeat_fac\n",
      "Classification accuracy KNORA-Eliminate:  0.8469696969696969\n",
      "Classification accuracy META-DES:  0.9045454545454545\n",
      "----------------------------\n",
      "Dataset: mfeat_fou\n",
      "Classification accuracy KNORA-Eliminate:  0.6893939393939394\n",
      "Classification accuracy META-DES:  0.7075757575757575\n",
      "----------------------------\n",
      "Dataset: mfeat_kar\n",
      "Classification accuracy KNORA-Eliminate:  0.7787878787878788\n",
      "Classification accuracy META-DES:  0.7924242424242425\n",
      "----------------------------\n",
      "Dataset: mfeat_mor\n",
      "Classification accuracy KNORA-Eliminate:  0.6439393939393939\n",
      "Classification accuracy META-DES:  0.693939393939394\n",
      "----------------------------\n",
      "Dataset: mfeat_pix\n",
      "Classification accuracy KNORA-Eliminate:  0.8787878787878788\n",
      "Classification accuracy META-DES:  0.9015151515151515\n",
      "----------------------------\n",
      "Dataset: mfeat_zer\n",
      "Classification accuracy KNORA-Eliminate:  0.6909090909090909\n",
      "Classification accuracy META-DES:  0.7212121212121212\n",
      "----------------------------\n"
     ]
    }
   ],
   "source": [
    "# Para cada dataset, fazer um aprendizado por KNORA e por META_DES e coletar os outputs\n",
    "# Pra fazer um modelo em pilha pra integração das views\n",
    "\n",
    "sets = [mfeat_fac, mfeat_fou, mfeat_kar, mfeat_mor, mfeat_pix, mfeat_zer]\n",
    "\n",
    "dataset_labels = ['mfeat_fac', 'mfeat_fou', 'mfeat_kar', 'mfeat_mor', 'mfeat_pix', 'mfeat_zer']\n",
    "\n",
    "knora_outputs = {}\n",
    "meta_des_outputs = {}\n",
    "\n",
    "# Array para verificar a consistência dos dados de teste - não precisa mais\n",
    "y_test_arrays = {}\n",
    "\n",
    "scores_knora = {}\n",
    "scores_meta_des = {}\n",
    "\n",
    "for X, name in zip (sets,dataset_labels):\n",
    "    X_train, X_test, X_dsel, y_train, y_test, y_dsel = split_data_ensembles(X, y_data)\n",
    "    print(\"Dataset:\",name)\n",
    "    X_predict_knora, knora_score = ensemble_KNORA(X_train, X_test, X_dsel, y_train, y_test, y_dsel)\n",
    "    X_predict_meta_des, meta_des_score = ensemble_META_DES(X_train, X_test, X_dsel, y_train, y_test, y_dsel)\n",
    "    #assert(y_test_1 == y_test_2)\n",
    "    #assert(target_data == y_test_1)\n",
    "    print(\"----------------------------\")\n",
    "    knora_outputs[name] = X_predict_knora\n",
    "    meta_des_outputs[name] = X_predict_meta_des\n",
    "    scores_knora[name] = knora_score\n",
    "    scores_meta_des[name] = meta_des_score\n",
    "\n",
    "    y_test_arrays[name] = y_test\n",
    "\n",
    "\n",
    "\n",
    "knora_outputs['target'] = y_test\n",
    "meta_des_outputs['target'] = y_test"
   ]
  },
  {
   "cell_type": "code",
   "execution_count": 19,
   "metadata": {},
   "outputs": [
    {
     "data": {
      "text/html": [
       "<div>\n",
       "<style scoped>\n",
       "    .dataframe tbody tr th:only-of-type {\n",
       "        vertical-align: middle;\n",
       "    }\n",
       "\n",
       "    .dataframe tbody tr th {\n",
       "        vertical-align: top;\n",
       "    }\n",
       "\n",
       "    .dataframe thead th {\n",
       "        text-align: right;\n",
       "    }\n",
       "</style>\n",
       "<table border=\"1\" class=\"dataframe\">\n",
       "  <thead>\n",
       "    <tr style=\"text-align: right;\">\n",
       "      <th></th>\n",
       "      <th>mfeat_fac</th>\n",
       "      <th>mfeat_fou</th>\n",
       "      <th>mfeat_kar</th>\n",
       "      <th>mfeat_mor</th>\n",
       "      <th>mfeat_pix</th>\n",
       "      <th>mfeat_zer</th>\n",
       "    </tr>\n",
       "  </thead>\n",
       "  <tbody>\n",
       "    <tr>\n",
       "      <th>0</th>\n",
       "      <td>9</td>\n",
       "      <td>9</td>\n",
       "      <td>9</td>\n",
       "      <td>9</td>\n",
       "      <td>9</td>\n",
       "      <td>9</td>\n",
       "    </tr>\n",
       "    <tr>\n",
       "      <th>1</th>\n",
       "      <td>1</td>\n",
       "      <td>1</td>\n",
       "      <td>1</td>\n",
       "      <td>1</td>\n",
       "      <td>1</td>\n",
       "      <td>1</td>\n",
       "    </tr>\n",
       "    <tr>\n",
       "      <th>2</th>\n",
       "      <td>6</td>\n",
       "      <td>6</td>\n",
       "      <td>6</td>\n",
       "      <td>6</td>\n",
       "      <td>6</td>\n",
       "      <td>6</td>\n",
       "    </tr>\n",
       "    <tr>\n",
       "      <th>3</th>\n",
       "      <td>4</td>\n",
       "      <td>4</td>\n",
       "      <td>4</td>\n",
       "      <td>4</td>\n",
       "      <td>4</td>\n",
       "      <td>4</td>\n",
       "    </tr>\n",
       "    <tr>\n",
       "      <th>4</th>\n",
       "      <td>6</td>\n",
       "      <td>6</td>\n",
       "      <td>6</td>\n",
       "      <td>6</td>\n",
       "      <td>6</td>\n",
       "      <td>6</td>\n",
       "    </tr>\n",
       "    <tr>\n",
       "      <th>...</th>\n",
       "      <td>...</td>\n",
       "      <td>...</td>\n",
       "      <td>...</td>\n",
       "      <td>...</td>\n",
       "      <td>...</td>\n",
       "      <td>...</td>\n",
       "    </tr>\n",
       "    <tr>\n",
       "      <th>655</th>\n",
       "      <td>0</td>\n",
       "      <td>0</td>\n",
       "      <td>0</td>\n",
       "      <td>0</td>\n",
       "      <td>0</td>\n",
       "      <td>0</td>\n",
       "    </tr>\n",
       "    <tr>\n",
       "      <th>656</th>\n",
       "      <td>6</td>\n",
       "      <td>6</td>\n",
       "      <td>6</td>\n",
       "      <td>6</td>\n",
       "      <td>6</td>\n",
       "      <td>6</td>\n",
       "    </tr>\n",
       "    <tr>\n",
       "      <th>657</th>\n",
       "      <td>9</td>\n",
       "      <td>9</td>\n",
       "      <td>9</td>\n",
       "      <td>9</td>\n",
       "      <td>9</td>\n",
       "      <td>9</td>\n",
       "    </tr>\n",
       "    <tr>\n",
       "      <th>658</th>\n",
       "      <td>2</td>\n",
       "      <td>2</td>\n",
       "      <td>2</td>\n",
       "      <td>2</td>\n",
       "      <td>2</td>\n",
       "      <td>2</td>\n",
       "    </tr>\n",
       "    <tr>\n",
       "      <th>659</th>\n",
       "      <td>2</td>\n",
       "      <td>2</td>\n",
       "      <td>2</td>\n",
       "      <td>2</td>\n",
       "      <td>2</td>\n",
       "      <td>2</td>\n",
       "    </tr>\n",
       "  </tbody>\n",
       "</table>\n",
       "<p>660 rows × 6 columns</p>\n",
       "</div>"
      ],
      "text/plain": [
       "     mfeat_fac  mfeat_fou  mfeat_kar  mfeat_mor  mfeat_pix  mfeat_zer\n",
       "0            9          9          9          9          9          9\n",
       "1            1          1          1          1          1          1\n",
       "2            6          6          6          6          6          6\n",
       "3            4          4          4          4          4          4\n",
       "4            6          6          6          6          6          6\n",
       "..         ...        ...        ...        ...        ...        ...\n",
       "655          0          0          0          0          0          0\n",
       "656          6          6          6          6          6          6\n",
       "657          9          9          9          9          9          9\n",
       "658          2          2          2          2          2          2\n",
       "659          2          2          2          2          2          2\n",
       "\n",
       "[660 rows x 6 columns]"
      ]
     },
     "execution_count": 19,
     "metadata": {},
     "output_type": "execute_result"
    }
   ],
   "source": [
    "y_test_arrays = pd.DataFrame(y_test_arrays)\n",
    "y_test_arrays"
   ]
  },
  {
   "cell_type": "markdown",
   "metadata": {},
   "source": [
    "### Construção de datasets sintéticos para generalização em pilha"
   ]
  },
  {
   "cell_type": "code",
   "execution_count": 20,
   "metadata": {},
   "outputs": [
    {
     "name": "stdout",
     "output_type": "stream",
     "text": [
      "<class 'pandas.core.frame.DataFrame'>\n",
      "RangeIndex: 660 entries, 0 to 659\n",
      "Data columns (total 7 columns):\n",
      " #   Column     Non-Null Count  Dtype\n",
      "---  ------     --------------  -----\n",
      " 0   mfeat_fac  660 non-null    int32\n",
      " 1   mfeat_fou  660 non-null    int32\n",
      " 2   mfeat_kar  660 non-null    int32\n",
      " 3   mfeat_mor  660 non-null    int32\n",
      " 4   mfeat_pix  660 non-null    int32\n",
      " 5   mfeat_zer  660 non-null    int32\n",
      " 6   target     660 non-null    int64\n",
      "dtypes: int32(6), int64(1)\n",
      "memory usage: 20.7 KB\n"
     ]
    }
   ],
   "source": [
    "knora_df = pd.DataFrame(knora_outputs)\n",
    "knora_df.info()"
   ]
  },
  {
   "cell_type": "code",
   "execution_count": 21,
   "metadata": {},
   "outputs": [
    {
     "name": "stdout",
     "output_type": "stream",
     "text": [
      "<class 'pandas.core.frame.DataFrame'>\n",
      "RangeIndex: 660 entries, 0 to 659\n",
      "Data columns (total 7 columns):\n",
      " #   Column     Non-Null Count  Dtype\n",
      "---  ------     --------------  -----\n",
      " 0   mfeat_fac  660 non-null    int32\n",
      " 1   mfeat_fou  660 non-null    int32\n",
      " 2   mfeat_kar  660 non-null    int32\n",
      " 3   mfeat_mor  660 non-null    int32\n",
      " 4   mfeat_pix  660 non-null    int32\n",
      " 5   mfeat_zer  660 non-null    int32\n",
      " 6   target     660 non-null    int64\n",
      "dtypes: int32(6), int64(1)\n",
      "memory usage: 20.7 KB\n"
     ]
    }
   ],
   "source": [
    "meta_des_df = pd.DataFrame(meta_des_outputs)\n",
    "meta_des_df.info()"
   ]
  },
  {
   "cell_type": "markdown",
   "metadata": {},
   "source": [
    "### Generalização em pilha KNORA"
   ]
  },
  {
   "cell_type": "code",
   "execution_count": 22,
   "metadata": {},
   "outputs": [
    {
     "name": "stdout",
     "output_type": "stream",
     "text": [
      "0.7889908256880734\n"
     ]
    }
   ],
   "source": [
    "from sklearn import svm\n",
    "#clf = svm.SVC(decision_function_shape='ovo')\n",
    "\n",
    "# ovo = one versus one\n",
    "# ovr = one versus rest (one vs all)\n",
    "dataset = knora_df\n",
    "\n",
    "X, y = dataset.drop(columns=\"target\"), dataset[\"target\"]\n",
    "X_train, X_test, y_train, y_test = train_test_split(X, y, test_size=0.33,\n",
    "                                                      random_state=42)\n",
    "clf = svm.SVC(decision_function_shape='ovo')\n",
    "clf.fit(X_train, y_train)\n",
    "score = clf.score(X_test,y_test)\n",
    "print(score)\n",
    "\n",
    "\n",
    "scores_knora[\"stacked\"] = score"
   ]
  },
  {
   "cell_type": "markdown",
   "metadata": {},
   "source": [
    "### Generalização em pilha META-DES"
   ]
  },
  {
   "cell_type": "code",
   "execution_count": 23,
   "metadata": {},
   "outputs": [
    {
     "name": "stdout",
     "output_type": "stream",
     "text": [
      "0.8394495412844036\n"
     ]
    }
   ],
   "source": [
    "dataset = meta_des_df\n",
    "\n",
    "X, y = dataset.drop(columns=\"target\"), dataset[\"target\"]\n",
    "X_train, X_test, y_train, y_test = train_test_split(X, y, test_size=0.33,\n",
    "                                                      random_state=42)\n",
    "clf = svm.SVC(decision_function_shape='ovo')\n",
    "clf.fit(X_train, y_train)\n",
    "score = clf.score(X_test,y_test)\n",
    "print(score)\n",
    "\n",
    "scores_meta_des[\"stacked\"] = score"
   ]
  },
  {
   "cell_type": "code",
   "execution_count": 24,
   "metadata": {},
   "outputs": [
    {
     "data": {
      "text/plain": [
       "{'mfeat_fac': 0.8469696969696969,\n",
       " 'mfeat_fou': 0.6893939393939394,\n",
       " 'mfeat_kar': 0.7787878787878788,\n",
       " 'mfeat_mor': 0.6439393939393939,\n",
       " 'mfeat_pix': 0.8787878787878788,\n",
       " 'mfeat_zer': 0.6909090909090909,\n",
       " 'stacked': 0.7889908256880734}"
      ]
     },
     "execution_count": 24,
     "metadata": {},
     "output_type": "execute_result"
    }
   ],
   "source": [
    "scores_knora"
   ]
  },
  {
   "cell_type": "code",
   "execution_count": 25,
   "metadata": {},
   "outputs": [
    {
     "data": {
      "text/plain": [
       "{'mfeat_fac': 0.9045454545454545,\n",
       " 'mfeat_fou': 0.7075757575757575,\n",
       " 'mfeat_kar': 0.7924242424242425,\n",
       " 'mfeat_mor': 0.693939393939394,\n",
       " 'mfeat_pix': 0.9015151515151515,\n",
       " 'mfeat_zer': 0.7212121212121212,\n",
       " 'stacked': 0.8394495412844036}"
      ]
     },
     "execution_count": 25,
     "metadata": {},
     "output_type": "execute_result"
    }
   ],
   "source": [
    "scores_meta_des"
   ]
  },
  {
   "cell_type": "markdown",
   "metadata": {},
   "source": [
    "#### Datasets sintéticos dos perfis de saída para cada visão, em relação ao ground truth (y_test)"
   ]
  },
  {
   "cell_type": "code",
   "execution_count": 26,
   "metadata": {},
   "outputs": [
    {
     "name": "stdout",
     "output_type": "stream",
     "text": [
      "0.9045454545454545\n",
      "0.7075757575757575\n",
      "0.7924242424242425\n",
      "0.693939393939394\n",
      "0.9015151515151515\n",
      "0.7212121212121212\n",
      "4.575757575757576\n"
     ]
    }
   ],
   "source": [
    "output_profiles_meta_des = {}\n",
    "\n",
    "for label in dataset_labels:\n",
    "    output = meta_des_df[label]\n",
    "    target = meta_des_df[\"target\"]\n",
    "    profile = [int(x == y) for x, y in zip (output,target)]\n",
    "    output_profiles_meta_des[label] = profile\n",
    "\n",
    "output_profiles_meta_des[\"target\"] = meta_des_df[\"target\"]\n",
    "\n",
    "for key in output_profiles_meta_des.keys():\n",
    "    print(sum(output_profiles_meta_des[key])/len(output_profiles_meta_des[key]))"
   ]
  },
  {
   "cell_type": "code",
   "execution_count": null,
   "metadata": {},
   "outputs": [],
   "source": []
  },
  {
   "cell_type": "code",
   "execution_count": null,
   "metadata": {},
   "outputs": [],
   "source": []
  }
 ],
 "metadata": {
  "kernelspec": {
   "display_name": "Python 3",
   "language": "python",
   "name": "python3"
  },
  "language_info": {
   "codemirror_mode": {
    "name": "ipython",
    "version": 3
   },
   "file_extension": ".py",
   "mimetype": "text/x-python",
   "name": "python",
   "nbconvert_exporter": "python",
   "pygments_lexer": "ipython3",
   "version": "3.8.3"
  }
 },
 "nbformat": 4,
 "nbformat_minor": 2
}
