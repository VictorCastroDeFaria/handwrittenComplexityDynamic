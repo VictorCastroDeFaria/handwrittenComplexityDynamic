{
 "cells": [
  {
   "cell_type": "markdown",
   "metadata": {},
   "source": [
    "## Importação de bibliotecas e extração dos dados"
   ]
  },
  {
   "cell_type": "code",
   "execution_count": 2,
   "metadata": {},
   "outputs": [],
   "source": [
    "import pandas as pd\n",
    "import deslib\n",
    "import pymfe"
   ]
  },
  {
   "cell_type": "code",
   "execution_count": 3,
   "metadata": {},
   "outputs": [],
   "source": [
    "file_names = [\"mfeat-fac\", \"mfeat-fou\", \"mfeat-kar\", \"mfeat-mor\", \"mfeat-pix\", \"mfeat-zer\"]\n",
    "dataset_names = [x.replace(\"-\",\"_\") for x in file_names]\n",
    "\n",
    "mfeat_fac = pd.read_csv(\"mfeat-fac.csv\",delim_whitespace=True,header=None)\n",
    "mfeat_fou = pd.read_csv(\"mfeat-fou.csv\",delim_whitespace=True,header=None)\n",
    "mfeat_kar = pd.read_csv(\"mfeat-kar.csv\",delim_whitespace=True,header=None)\n",
    "mfeat_mor = pd.read_csv(\"mfeat-mor.csv\",delim_whitespace=True,header=None)\n",
    "mfeat_pix = pd.read_csv(\"mfeat-pix.csv\",delim_whitespace=True,header=None)\n",
    "mfeat_zer = pd.read_csv(\"mfeat-zer.csv\",delim_whitespace=True,header=None)"
   ]
  },
  {
   "cell_type": "code",
   "execution_count": 4,
   "metadata": {},
   "outputs": [
    {
     "data": {
      "text/plain": [
       "((2000, 216), (2000, 76), (2000, 64), (2000, 6), (2000, 240), (2000, 47))"
      ]
     },
     "execution_count": 4,
     "metadata": {},
     "output_type": "execute_result"
    }
   ],
   "source": [
    "mfeat_fac.shape, mfeat_fou.shape, mfeat_kar.shape, mfeat_mor.shape, mfeat_pix.shape, mfeat_zer.shape"
   ]
  },
  {
   "cell_type": "code",
   "execution_count": 5,
   "metadata": {},
   "outputs": [
    {
     "name": "stdout",
     "output_type": "stream",
     "text": [
      "0 0.0    1207\n",
      "1.0     601\n",
      "2.0     192\n",
      "Name: 0, dtype: int64\n",
      "1 2.0    651\n",
      "3.0    494\n",
      "1.0    398\n",
      "0.0    387\n",
      "4.0     67\n",
      "6.0      2\n",
      "5.0      1\n",
      "Name: 1, dtype: int64\n",
      "2 1.0    889\n",
      "0.0    846\n",
      "2.0    260\n",
      "3.0      3\n",
      "5.0      1\n",
      "4.0      1\n",
      "Name: 2, dtype: int64\n",
      "3 130.578861    6\n",
      "137.616861    4\n",
      "144.994861    4\n",
      "133.920861    4\n",
      "131.934861    3\n",
      "             ..\n",
      "132.382861    1\n",
      "223.296861    1\n",
      "124.384861    1\n",
      "194.474861    1\n",
      "132.273861    1\n",
      "Name: 3, Length: 1717, dtype: int64\n",
      "4 1.564621    4\n",
      "1.555376    2\n",
      "1.464837    2\n",
      "1.669421    2\n",
      "1.556284    2\n",
      "           ..\n",
      "1.723905    1\n",
      "1.938348    1\n",
      "1.969993    1\n",
      "1.456876    1\n",
      "1.514323    1\n",
      "Name: 4, Length: 1886, dtype: int64\n",
      "5 3808.021317     4\n",
      "3870.753021     2\n",
      "4073.644988     2\n",
      "3078.477817     2\n",
      "3737.864996     2\n",
      "               ..\n",
      "2108.481483     1\n",
      "6946.219021     1\n",
      "13225.580607    1\n",
      "9915.456060     1\n",
      "1777.753184     1\n",
      "Name: 5, Length: 1888, dtype: int64\n"
     ]
    }
   ],
   "source": [
    "for item in mfeat_mor.columns:\n",
    "    print(item, mfeat_mor[item].value_counts())"
   ]
  },
  {
   "cell_type": "code",
   "execution_count": 6,
   "metadata": {},
   "outputs": [
    {
     "name": "stdout",
     "output_type": "stream",
     "text": [
      "--------------------\n",
      "<class 'float'>    2000\n",
      "dtype: int64\n",
      "<class 'float'>    2000\n",
      "dtype: int64\n",
      "<class 'float'>    2000\n",
      "dtype: int64\n",
      "<class 'float'>    2000\n",
      "dtype: int64\n",
      "<class 'float'>    2000\n",
      "dtype: int64\n",
      "<class 'float'>    2000\n",
      "dtype: int64\n"
     ]
    }
   ],
   "source": [
    "print(\"--------------------\")\n",
    "for item in mfeat_mor.columns:\n",
    "    data = []\n",
    "    for datavalue in mfeat_mor[item]:\n",
    "        data.append(type(datavalue))\n",
    "    data = pd.Series(data)\n",
    "\n",
    "    print(data.value_counts())"
   ]
  },
  {
   "cell_type": "markdown",
   "metadata": {},
   "source": [
    "#### In each file the 2000 patterns are stored in ASCI on 2000 lines. The first 200 patterns are of class '0', followed by sets of 200 patterns for each of the classes '1' - '9'. Corresponding patterns in different feature sets (files) correspond to the same original character."
   ]
  },
  {
   "cell_type": "code",
   "execution_count": 7,
   "metadata": {},
   "outputs": [
    {
     "data": {
      "text/plain": [
       "2000"
      ]
     },
     "execution_count": 7,
     "metadata": {},
     "output_type": "execute_result"
    }
   ],
   "source": [
    "y_data = []\n",
    "for _ in range(10): # Para cada uma das classes\n",
    "    for item in range(200): # Para cada uma das instâncias\n",
    "        y_data.append(str(_))\n",
    "\n",
    "len(y_data)"
   ]
  },
  {
   "cell_type": "markdown",
   "metadata": {},
   "source": [
    "## Extração de métricas de complexidade de apenas um dataset"
   ]
  },
  {
   "cell_type": "code",
   "execution_count": 8,
   "metadata": {},
   "outputs": [
    {
     "name": "stderr",
     "output_type": "stream",
     "text": [
      "c:\\Users\\Victor\\AppData\\Local\\Programs\\Python\\Python38-32\\lib\\site-packages\\tqdm\\auto.py:22: TqdmWarning: IProgress not found. Please update jupyter and ipywidgets. See https://ipywidgets.readthedocs.io/en/stable/user_install.html\n",
      "  from .autonotebook import tqdm as notebook_tqdm\n",
      "c:\\Users\\Victor\\AppData\\Local\\Programs\\Python\\Python38-32\\lib\\site-packages\\pymfe\\_internal.py:1568: UserWarning: It is not possible make equal discretization\n",
      "  warnings.warn(\"It is not possible make equal discretization\")\n"
     ]
    },
    {
     "name": "stdout",
     "output_type": "stream",
     "text": [
      "c1                                                             0.9999999999999998\n",
      "c2                                                                            0.0\n",
      "cls_coef                                                      0.11600217184875994\n",
      "density                                                        0.9216868434217108\n",
      "f1.mean                                                        0.5114091458342185\n",
      "f1.sd                                                         0.13935389439021795\n",
      "f1v.mean                                                      0.00196903563604571\n",
      "f1v.sd                                                      0.0014954935763594405\n",
      "f2.mean                                                     9.496172542333211e-26\n",
      "f2.sd                                                       6.369028416817056e-25\n",
      "f3.mean                                                        1.3390555555555557\n",
      "f3.sd                                                           0.781719638639291\n",
      "f4.mean                                                                       0.0\n",
      "f4.sd                                                                         0.0\n",
      "hubs.mean                                                      0.9046277635464075\n",
      "hubs.sd                                                        0.2887547966667681\n",
      "l1.mean                                                                       0.0\n",
      "l1.sd                                                                         0.0\n",
      "l2.mean                                                                       0.0\n",
      "l2.sd                                                                         0.0\n",
      "l3.mean                                                                       0.0\n",
      "l3.sd                                                                         0.0\n",
      "lsc                                                                    0.97989775\n",
      "n1                                                                         0.0845\n",
      "n2.mean                                                       0.36504967135251254\n",
      "n2.sd                                                         0.07695765811750134\n",
      "n3.mean                                                                    0.0405\n",
      "n3.sd                                                          0.1971780657040671\n",
      "n4.mean                                                                     0.004\n",
      "n4.sd                                                         0.06313472100594292\n",
      "t1                                                                          0.505\n",
      "t2                                                                          0.108\n",
      "t3                                                                          0.006\n",
      "t4                                                            0.05555555555555555\n"
     ]
    }
   ],
   "source": [
    "from pymfe.mfe import MFE\n",
    "import numpy as np\n",
    "\n",
    "mfe = MFE(groups = ['complexity'])\n",
    "mfe.fit(mfeat_fac.values,y_data)\n",
    "ft = mfe.extract()\n",
    "print(\"\\n\".join(\"{:50} {:30}\".format(x, y) for x, y in zip(ft[0], ft[1])))"
   ]
  },
  {
   "cell_type": "code",
   "execution_count": 9,
   "metadata": {},
   "outputs": [],
   "source": [
    "complexity_metrics = {}\n",
    "for x, y in zip(ft[0], ft[1]):\n",
    "    complexity_metrics[x] = y"
   ]
  },
  {
   "cell_type": "code",
   "execution_count": 10,
   "metadata": {},
   "outputs": [
    {
     "data": {
      "text/plain": [
       "{'c1': 0.9999999999999998,\n",
       " 'c2': 0.0,\n",
       " 'cls_coef': 0.11600217184875994,\n",
       " 'density': 0.9216868434217108,\n",
       " 'f1.mean': 0.5114091458342185,\n",
       " 'f1.sd': 0.13935389439021795,\n",
       " 'f1v.mean': 0.00196903563604571,\n",
       " 'f1v.sd': 0.0014954935763594405,\n",
       " 'f2.mean': 9.496172542333211e-26,\n",
       " 'f2.sd': 6.369028416817056e-25,\n",
       " 'f3.mean': 1.3390555555555557,\n",
       " 'f3.sd': 0.781719638639291,\n",
       " 'f4.mean': 0.0,\n",
       " 'f4.sd': 0.0,\n",
       " 'hubs.mean': 0.9046277635464075,\n",
       " 'hubs.sd': 0.2887547966667681,\n",
       " 'l1.mean': 0.0,\n",
       " 'l1.sd': 0.0,\n",
       " 'l2.mean': 0.0,\n",
       " 'l2.sd': 0.0,\n",
       " 'l3.mean': 0.0,\n",
       " 'l3.sd': 0.0,\n",
       " 'lsc': 0.97989775,\n",
       " 'n1': 0.0845,\n",
       " 'n2.mean': 0.36504967135251254,\n",
       " 'n2.sd': 0.07695765811750134,\n",
       " 'n3.mean': 0.0405,\n",
       " 'n3.sd': 0.1971780657040671,\n",
       " 'n4.mean': 0.004,\n",
       " 'n4.sd': 0.06313472100594292,\n",
       " 't1': 0.505,\n",
       " 't2': 0.108,\n",
       " 't3': 0.006,\n",
       " 't4': 0.05555555555555555}"
      ]
     },
     "execution_count": 10,
     "metadata": {},
     "output_type": "execute_result"
    }
   ],
   "source": [
    "complexity_metrics"
   ]
  },
  {
   "cell_type": "markdown",
   "metadata": {},
   "source": [
    "# Extração de métricas de complexidade de todos os datasets"
   ]
  },
  {
   "cell_type": "code",
   "execution_count": 11,
   "metadata": {},
   "outputs": [],
   "source": [
    "#y_data = np.array(y_data)"
   ]
  },
  {
   "cell_type": "code",
   "execution_count": 12,
   "metadata": {},
   "outputs": [
    {
     "name": "stdout",
     "output_type": "stream",
     "text": [
      "-------------- mfeat_fac -----------------\n"
     ]
    },
    {
     "name": "stderr",
     "output_type": "stream",
     "text": [
      "c:\\Users\\Victor\\AppData\\Local\\Programs\\Python\\Python38-32\\lib\\site-packages\\pymfe\\_internal.py:1568: UserWarning: It is not possible make equal discretization\n",
      "  warnings.warn(\"It is not possible make equal discretization\")\n"
     ]
    },
    {
     "name": "stdout",
     "output_type": "stream",
     "text": [
      "-------------- mfeat_fou -----------------\n",
      "-------------- mfeat_kar -----------------\n",
      "-------------- mfeat_mor -----------------\n"
     ]
    },
    {
     "name": "stderr",
     "output_type": "stream",
     "text": [
      "c:\\Users\\Victor\\AppData\\Local\\Programs\\Python\\Python38-32\\lib\\site-packages\\pymfe\\_internal.py:1568: UserWarning: It is not possible make equal discretization\n",
      "  warnings.warn(\"It is not possible make equal discretization\")\n",
      "c:\\Users\\Victor\\AppData\\Local\\Programs\\Python\\Python38-32\\lib\\site-packages\\pymfe\\complexity.py:990: RuntimeWarning: invalid value encountered in true_divide\n",
      "  f2[ind] = np.prod(np.maximum(0.0, minmax - maxmin) / (maxmax - minmin))\n",
      "c:\\Users\\Victor\\AppData\\Local\\Programs\\Python\\Python38-32\\lib\\site-packages\\pymfe\\_internal.py:731: RuntimeWarning: Can't summarize feature 'f2' with summary 'sd'. Will set it as 'np.nan'.\n",
      "  warnings.warn(\n",
      "c:\\Users\\Victor\\AppData\\Local\\Programs\\Python\\Python38-32\\lib\\site-packages\\pymfe\\_internal.py:731: RuntimeWarning: Can't summarize feature 'f2' with summary 'mean'. Will set it as 'np.nan'.\n",
      "  warnings.warn(\n",
      "c:\\Users\\Victor\\AppData\\Local\\Programs\\Python\\Python38-32\\lib\\site-packages\\pymfe\\complexity.py:1742: RuntimeWarning: divide by zero encountered in true_divide\n",
      "  intra_extra[cur_ind:next_ind] = intra / extra\n",
      "c:\\Users\\Victor\\AppData\\Local\\Programs\\Python\\Python38-32\\lib\\site-packages\\pymfe\\complexity.py:1742: RuntimeWarning: invalid value encountered in true_divide\n",
      "  intra_extra[cur_ind:next_ind] = intra / extra\n",
      "c:\\Users\\Victor\\AppData\\Local\\Programs\\Python\\Python38-32\\lib\\site-packages\\pymfe\\_internal.py:731: RuntimeWarning: Can't summarize feature 'n2' with summary 'sd'. Will set it as 'np.nan'.\n",
      "  warnings.warn(\n",
      "c:\\Users\\Victor\\AppData\\Local\\Programs\\Python\\Python38-32\\lib\\site-packages\\pymfe\\_internal.py:731: RuntimeWarning: Can't summarize feature 'n2' with summary 'mean'. Will set it as 'np.nan'.\n",
      "  warnings.warn(\n"
     ]
    },
    {
     "name": "stdout",
     "output_type": "stream",
     "text": [
      "-------------- mfeat_pix -----------------\n"
     ]
    },
    {
     "name": "stderr",
     "output_type": "stream",
     "text": [
      "c:\\Users\\Victor\\AppData\\Local\\Programs\\Python\\Python38-32\\lib\\site-packages\\pymfe\\_internal.py:1568: UserWarning: It is not possible make equal discretization\n",
      "  warnings.warn(\"It is not possible make equal discretization\")\n",
      "c:\\Users\\Victor\\AppData\\Local\\Programs\\Python\\Python38-32\\lib\\site-packages\\pymfe\\complexity.py:990: RuntimeWarning: invalid value encountered in true_divide\n",
      "  f2[ind] = np.prod(np.maximum(0.0, minmax - maxmin) / (maxmax - minmin))\n",
      "c:\\Users\\Victor\\AppData\\Local\\Programs\\Python\\Python38-32\\lib\\site-packages\\pymfe\\_internal.py:731: RuntimeWarning: Can't summarize feature 'f2' with summary 'sd'. Will set it as 'np.nan'.\n",
      "  warnings.warn(\n",
      "c:\\Users\\Victor\\AppData\\Local\\Programs\\Python\\Python38-32\\lib\\site-packages\\pymfe\\_internal.py:731: RuntimeWarning: Can't summarize feature 'f2' with summary 'mean'. Will set it as 'np.nan'.\n",
      "  warnings.warn(\n"
     ]
    },
    {
     "name": "stdout",
     "output_type": "stream",
     "text": [
      "-------------- mfeat_zer -----------------\n"
     ]
    }
   ],
   "source": [
    "sets = [mfeat_fac, mfeat_fou, mfeat_kar, mfeat_mor, mfeat_pix, mfeat_zer]\n",
    "\n",
    "# instanciar uma estrutura que armazena valores de complexidade\n",
    "\n",
    "complexity = {\"Dimensionality\":[],\n",
    "    #\"c1\":[], # Entropy of Class proportions\n",
    "           #\"c2\":[], # Imbalance ratio, também adaptada para problemas multiclasse\n",
    "           \"f1.mean\":[], # Fisher's Discriminant Ratio\n",
    "           \"f2.mean\":[], # Volume of Overlapping Region\n",
    "           \"l1.mean\":[], # Sum of the error istance by Linear Programming (SVM optimization)\n",
    "           \"l2.mean\":[], # Error rate of the linear classifier (SVM)\n",
    "           \"l3.mean\":[], # Non-linearity of a Linear Classifier\n",
    "           \"n1\":[], # Fraction of borderline points\n",
    "           \"n2.mean\":[], # Ratio of intra and extra class nearest neighbor distance\n",
    "           \"n3.mean\":[] # Ratio of intra and extra class nearest neighbor distance.\n",
    "        }\n",
    "\n",
    "dataset_labels = ['mfeat_fac', 'mfeat_fou', 'mfeat_kar', 'mfeat_mor', 'mfeat_pix', 'mfeat_zer']\n",
    "\n",
    "for dataset, label in zip(sets,dataset_labels):\n",
    "    # calcular complexidade de cada dataset\n",
    "    print('--------------',label,'-----------------')\n",
    "    mfe = MFE(groups = ['complexity'])\n",
    "    mfe.fit(dataset.values,y_data)\n",
    "    ft = mfe.extract()\n",
    "\n",
    "    dataset_complexity_measures = {}\n",
    "    for x, y in zip(ft[0], ft[1]):\n",
    "        dataset_complexity_measures[x] = y\n",
    "    #armazenar valores de interesse do seu dataset\n",
    "\n",
    "    complexity[\"Dimensionality\"].append(dataset.shape[1])\n",
    "\n",
    "    for metafeature in ['f1.mean','f2.mean','l1.mean','l2.mean','l3.mean','n1','n2.mean','n3.mean']:\n",
    "        complexity[metafeature].append(dataset_complexity_measures[metafeature])\n"
   ]
  },
  {
   "cell_type": "code",
   "execution_count": 13,
   "metadata": {},
   "outputs": [
    {
     "data": {
      "text/plain": [
       "{'Dimensionality': [216, 76, 64, 6, 240, 47],\n",
       " 'f1.mean': [0.5114091458342185,\n",
       "  0.7629594309785904,\n",
       "  0.7614981963376197,\n",
       "  0.17870763635764195,\n",
       "  0.6364311392285728,\n",
       "  0.6255584110882542],\n",
       " 'f2.mean': [9.496172542333211e-26,\n",
       "  5.052475763381846e-06,\n",
       "  2.7342828762484974e-08,\n",
       "  nan,\n",
       "  nan,\n",
       "  0.005288058022137935],\n",
       " 'l1.mean': [0.0,\n",
       "  0.0032863730334751454,\n",
       "  0.0,\n",
       "  0.026361777139687848,\n",
       "  0.0,\n",
       "  0.005905400245165919],\n",
       " 'l2.mean': [0.0,\n",
       "  0.004444444444444441,\n",
       "  0.0,\n",
       "  0.03838888888888888,\n",
       "  0.0,\n",
       "  0.01105555555555555],\n",
       " 'l3.mean': [0.0,\n",
       "  0.014833333333333334,\n",
       "  0.0013888888888888766,\n",
       "  0.03805555555555555,\n",
       "  0.0,\n",
       "  0.022499999999999996],\n",
       " 'n1': [0.0845, 0.2995, 0.081, 0.413, 0.0625, 0.295],\n",
       " 'n2.mean': [0.36504967135251254,\n",
       "  0.4401776010348133,\n",
       "  0.4132357341024008,\n",
       "  nan,\n",
       "  0.3630857884481563,\n",
       "  0.47611097204974856],\n",
       " 'n3.mean': [0.0405, 0.197, 0.0385, 0.3395, 0.027, 0.221]}"
      ]
     },
     "execution_count": 13,
     "metadata": {},
     "output_type": "execute_result"
    }
   ],
   "source": [
    "complexity"
   ]
  },
  {
   "cell_type": "markdown",
   "metadata": {},
   "source": [
    "### Modificação da métrica C1 (há um erro na documentação)"
   ]
  },
  {
   "cell_type": "code",
   "execution_count": 14,
   "metadata": {},
   "outputs": [],
   "source": [
    "#complexity[\"c1\"] = [-2*(item - 1) for item in complexity[\"c1\"]]"
   ]
  },
  {
   "cell_type": "code",
   "execution_count": 15,
   "metadata": {},
   "outputs": [],
   "source": [
    "datasets_dim = complexity[\"Dimensionality\"]\n",
    "dataset_labels = [x + \"_\" + str(y) for x, y in zip(dataset_labels,datasets_dim)]\n",
    "\n",
    "data = pd.DataFrame(complexity, index = dataset_labels)\n",
    "\n",
    "data.drop(columns = \"Dimensionality\",inplace=True)\n",
    "\n"
   ]
  },
  {
   "cell_type": "code",
   "execution_count": 16,
   "metadata": {},
   "outputs": [
    {
     "data": {
      "text/html": [
       "<div>\n",
       "<style scoped>\n",
       "    .dataframe tbody tr th:only-of-type {\n",
       "        vertical-align: middle;\n",
       "    }\n",
       "\n",
       "    .dataframe tbody tr th {\n",
       "        vertical-align: top;\n",
       "    }\n",
       "\n",
       "    .dataframe thead th {\n",
       "        text-align: right;\n",
       "    }\n",
       "</style>\n",
       "<table border=\"1\" class=\"dataframe\">\n",
       "  <thead>\n",
       "    <tr style=\"text-align: right;\">\n",
       "      <th></th>\n",
       "      <th>f1.mean</th>\n",
       "      <th>f2.mean</th>\n",
       "      <th>l1.mean</th>\n",
       "      <th>l2.mean</th>\n",
       "      <th>l3.mean</th>\n",
       "      <th>n1</th>\n",
       "      <th>n2.mean</th>\n",
       "      <th>n3.mean</th>\n",
       "    </tr>\n",
       "  </thead>\n",
       "  <tbody>\n",
       "    <tr>\n",
       "      <th>mfeat_fac_216</th>\n",
       "      <td>0.511409</td>\n",
       "      <td>9.496173e-26</td>\n",
       "      <td>0.000000</td>\n",
       "      <td>0.000000</td>\n",
       "      <td>0.000000</td>\n",
       "      <td>0.0845</td>\n",
       "      <td>0.365050</td>\n",
       "      <td>0.0405</td>\n",
       "    </tr>\n",
       "    <tr>\n",
       "      <th>mfeat_fou_76</th>\n",
       "      <td>0.762959</td>\n",
       "      <td>5.052476e-06</td>\n",
       "      <td>0.003286</td>\n",
       "      <td>0.004444</td>\n",
       "      <td>0.014833</td>\n",
       "      <td>0.2995</td>\n",
       "      <td>0.440178</td>\n",
       "      <td>0.1970</td>\n",
       "    </tr>\n",
       "    <tr>\n",
       "      <th>mfeat_kar_64</th>\n",
       "      <td>0.761498</td>\n",
       "      <td>2.734283e-08</td>\n",
       "      <td>0.000000</td>\n",
       "      <td>0.000000</td>\n",
       "      <td>0.001389</td>\n",
       "      <td>0.0810</td>\n",
       "      <td>0.413236</td>\n",
       "      <td>0.0385</td>\n",
       "    </tr>\n",
       "    <tr>\n",
       "      <th>mfeat_mor_6</th>\n",
       "      <td>0.178708</td>\n",
       "      <td>NaN</td>\n",
       "      <td>0.026362</td>\n",
       "      <td>0.038389</td>\n",
       "      <td>0.038056</td>\n",
       "      <td>0.4130</td>\n",
       "      <td>NaN</td>\n",
       "      <td>0.3395</td>\n",
       "    </tr>\n",
       "    <tr>\n",
       "      <th>mfeat_pix_240</th>\n",
       "      <td>0.636431</td>\n",
       "      <td>NaN</td>\n",
       "      <td>0.000000</td>\n",
       "      <td>0.000000</td>\n",
       "      <td>0.000000</td>\n",
       "      <td>0.0625</td>\n",
       "      <td>0.363086</td>\n",
       "      <td>0.0270</td>\n",
       "    </tr>\n",
       "    <tr>\n",
       "      <th>mfeat_zer_47</th>\n",
       "      <td>0.625558</td>\n",
       "      <td>5.288058e-03</td>\n",
       "      <td>0.005905</td>\n",
       "      <td>0.011056</td>\n",
       "      <td>0.022500</td>\n",
       "      <td>0.2950</td>\n",
       "      <td>0.476111</td>\n",
       "      <td>0.2210</td>\n",
       "    </tr>\n",
       "  </tbody>\n",
       "</table>\n",
       "</div>"
      ],
      "text/plain": [
       "                f1.mean       f2.mean   l1.mean   l2.mean   l3.mean      n1  \\\n",
       "mfeat_fac_216  0.511409  9.496173e-26  0.000000  0.000000  0.000000  0.0845   \n",
       "mfeat_fou_76   0.762959  5.052476e-06  0.003286  0.004444  0.014833  0.2995   \n",
       "mfeat_kar_64   0.761498  2.734283e-08  0.000000  0.000000  0.001389  0.0810   \n",
       "mfeat_mor_6    0.178708           NaN  0.026362  0.038389  0.038056  0.4130   \n",
       "mfeat_pix_240  0.636431           NaN  0.000000  0.000000  0.000000  0.0625   \n",
       "mfeat_zer_47   0.625558  5.288058e-03  0.005905  0.011056  0.022500  0.2950   \n",
       "\n",
       "                n2.mean  n3.mean  \n",
       "mfeat_fac_216  0.365050   0.0405  \n",
       "mfeat_fou_76   0.440178   0.1970  \n",
       "mfeat_kar_64   0.413236   0.0385  \n",
       "mfeat_mor_6         NaN   0.3395  \n",
       "mfeat_pix_240  0.363086   0.0270  \n",
       "mfeat_zer_47   0.476111   0.2210  "
      ]
     },
     "execution_count": 16,
     "metadata": {},
     "output_type": "execute_result"
    }
   ],
   "source": [
    "data"
   ]
  },
  {
   "cell_type": "code",
   "execution_count": 17,
   "metadata": {},
   "outputs": [
    {
     "name": "stdout",
     "output_type": "stream",
     "text": [
      "f1.mean 1\n",
      "l1.mean 3\n",
      "l2.mean 3\n",
      "l3.mean 3\n",
      "n1 3\n",
      "n3.mean 3\n"
     ]
    }
   ],
   "source": [
    "# Identificar o dataset mais complexo de acordo com alguma medida de complexidade\n",
    "\n",
    "for key in data.keys():\n",
    "    measure_list = data[key]\n",
    "    if not any(measure_list.isna()):\n",
    "        index = 0    #ind variable to store the index of maximum value in the list\n",
    "        max_measure = measure_list[0]\n",
    "\n",
    "        for i in range (1,len(measure_list)): #iterate over array\n",
    "          if measure_list[i] > max_measure: #to check max value\n",
    "            max_measure = measure_list[i]\n",
    "            index = i\n",
    "        \n",
    "        print(key, index)"
   ]
  },
  {
   "cell_type": "code",
   "execution_count": 52,
   "metadata": {},
   "outputs": [
    {
     "data": {
      "image/png": "[encoded data removed]",
      "text/plain": [
       "<Figure size 432x288 with 1 Axes>"
      ]
     },
     "metadata": {
      "needs_background": "light"
     },
     "output_type": "display_data"
    }
   ],
   "source": [
    "import matplotlib.pyplot as plt\n",
    "import seaborn as sns\n",
    "\n",
    "\n",
    "# Disposição em diagramas do tipo heatmap\n",
    "ax = sns.heatmap(data,\n",
    "                 annot=True,\n",
    "                 cbar=False,\n",
    "                 cmap=\"Blues\",\n",
    "                 xticklabels=True,\n",
    "                 yticklabels=True,\n",
    "                 linewidth=.5)\n",
    "ax.set_xticklabels(ax.get_xticklabels(), rotation=0)\n",
    "ax.set_yticklabels(ax.get_yticklabels(), rotation=0)\n",
    "plt.title(\"Complexity Metrics\")\n",
    "plt.xlabel(\"Complexity Metric\")\n",
    "plt.ylabel(\"Dataset + Dimensionality\")\n",
    "plt.show()\n",
    "\n",
    "data.to_csv(\"complexity.csv\")"
   ]
  },
  {
   "cell_type": "code",
   "execution_count": 19,
   "metadata": {},
   "outputs": [],
   "source": [
    "# Planos:\n",
    "# Fazer um esquema de DES para as visões\n",
    "# Fazer um esquema de modelos monlíticos para as visões\n",
    "# Construir uma etapa de generalização em pilha para agregação (lmao se vira)\n",
    "## para cada view, extrair as saídas correspondentes\n",
    "## Treinar um \"meta-modelo\" para ajustar as saídas à clçasse predita corretamente (será?)\n",
    "# \n",
    "# "
   ]
  },
  {
   "cell_type": "markdown",
   "metadata": {},
   "source": [
    "## Aplicação de modelos DCS e Ensemble"
   ]
  },
  {
   "cell_type": "markdown",
   "metadata": {},
   "source": [
    "#### Funções para aprendizado"
   ]
  },
  {
   "cell_type": "code",
   "execution_count": 20,
   "metadata": {},
   "outputs": [],
   "source": [
    "from sklearn.model_selection import train_test_split\n",
    "from deslib.des import METADES\n",
    "from deslib.des import KNORAE\n",
    "\n",
    "# Split primeiro, treinamento depois\n",
    "\n",
    "\n",
    "def split_data_ensembles(X, y, rng = 42):\n",
    "      # Testando a abordagem DES para somente uma visão\n",
    "\n",
    "      X_train, X_test, y_train, y_test = train_test_split(X, y, test_size=0.33,\n",
    "                                                          random_state=rng)\n",
    "\n",
    "      # Train data splitting into Training and Domains of Competence (dsel) sets\n",
    "      X_train, X_dsel, y_train, y_dsel = train_test_split(X_train, y_train,\n",
    "                                                          test_size=0.5,\n",
    "                                                          random_state=rng)\n",
    "      \n",
    "      return X_train, X_test, X_dsel, y_train, y_test, y_dsel\n",
    "\n",
    "\n",
    "\n",
    "def ensemble_KNORA(X_train, \n",
    "                   X_test, \n",
    "                   X_dsel, \n",
    "                   y_train, \n",
    "                   y_test, \n",
    "                   y_dsel, \n",
    "                   rng = 42):\n",
    "      \n",
    "      # Testando a abordagem DES para somente uma visão\n",
    "\n",
    "      kne = KNORAE(random_state=rng)\n",
    "\n",
    "      kne.fit(X_dsel, y_dsel)\n",
    "      # VERIFICAR DEPOIS O QUE PRECISA FAZER COM X_TRAIN E Y_TRAIN\n",
    "      score = kne.score(X_test, y_test)\n",
    "      predictions = kne.predict(X_test)\n",
    "\n",
    "      # Verify prediction accuracy\n",
    "      #print(sum([x == y for x,y in zip(predictions, y_test)])/len(y_test))\n",
    "\n",
    "      # Calculate classification accuracy of each technique\n",
    "      print('Classification accuracy KNORA-Eliminate: ',\n",
    "            score)\n",
    "      return predictions, score\n",
    "\n",
    "def ensemble_META_DES(X_train, \n",
    "                      X_test, \n",
    "                      X_dsel, \n",
    "                      y_train, \n",
    "                      y_test, \n",
    "                      y_dsel, \n",
    "                      rng = 42):\n",
    "      \n",
    "      # Testando a abordagem DES para somente uma visão\n",
    "\n",
    "      meta = METADES(random_state=rng)\n",
    "\n",
    "      meta.fit(X_dsel, y_dsel)\n",
    "      # VERIFICAR DEPOIS O QUE PRECISA FAZER COM X_TRAIN E Y_TRAIN\n",
    "      score = meta.score(X_test, y_test)\n",
    "      predictions = meta.predict(X_test)\n",
    "\n",
    "      # Calculate classification accuracy of each technique\n",
    "      print('Classification accuracy META-DES: ', score)\n",
    "      return predictions, score\n"
   ]
  },
  {
   "cell_type": "code",
   "execution_count": 21,
   "metadata": {},
   "outputs": [
    {
     "name": "stdout",
     "output_type": "stream",
     "text": [
      "Dataset: mfeat_fac\n"
     ]
    },
    {
     "name": "stderr",
     "output_type": "stream",
     "text": [
      "c:\\Users\\Victor\\AppData\\Local\\Programs\\Python\\Python38-32\\lib\\site-packages\\numpy\\core\\numeric.py:2327: FutureWarning: elementwise comparison failed; returning scalar instead, but in the future will perform elementwise comparison\n",
      "  return bool(asarray(a1 == a2).all())\n"
     ]
    },
    {
     "name": "stdout",
     "output_type": "stream",
     "text": [
      "Classification accuracy KNORA-Eliminate:  0.8469696969696969\n"
     ]
    },
    {
     "name": "stderr",
     "output_type": "stream",
     "text": [
      "c:\\Users\\Victor\\AppData\\Local\\Programs\\Python\\Python38-32\\lib\\site-packages\\numpy\\core\\numeric.py:2327: FutureWarning: elementwise comparison failed; returning scalar instead, but in the future will perform elementwise comparison\n",
      "  return bool(asarray(a1 == a2).all())\n"
     ]
    },
    {
     "name": "stdout",
     "output_type": "stream",
     "text": [
      "Classification accuracy META-DES:  0.9045454545454545\n",
      "----------------------------\n",
      "Dataset: mfeat_fou\n"
     ]
    },
    {
     "name": "stderr",
     "output_type": "stream",
     "text": [
      "c:\\Users\\Victor\\AppData\\Local\\Programs\\Python\\Python38-32\\lib\\site-packages\\numpy\\core\\numeric.py:2327: FutureWarning: elementwise comparison failed; returning scalar instead, but in the future will perform elementwise comparison\n",
      "  return bool(asarray(a1 == a2).all())\n"
     ]
    },
    {
     "name": "stdout",
     "output_type": "stream",
     "text": [
      "Classification accuracy KNORA-Eliminate:  0.6893939393939394\n"
     ]
    },
    {
     "name": "stderr",
     "output_type": "stream",
     "text": [
      "c:\\Users\\Victor\\AppData\\Local\\Programs\\Python\\Python38-32\\lib\\site-packages\\numpy\\core\\numeric.py:2327: FutureWarning: elementwise comparison failed; returning scalar instead, but in the future will perform elementwise comparison\n",
      "  return bool(asarray(a1 == a2).all())\n"
     ]
    },
    {
     "name": "stdout",
     "output_type": "stream",
     "text": [
      "Classification accuracy META-DES:  0.7075757575757575\n",
      "----------------------------\n",
      "Dataset: mfeat_kar\n"
     ]
    },
    {
     "name": "stderr",
     "output_type": "stream",
     "text": [
      "c:\\Users\\Victor\\AppData\\Local\\Programs\\Python\\Python38-32\\lib\\site-packages\\numpy\\core\\numeric.py:2327: FutureWarning: elementwise comparison failed; returning scalar instead, but in the future will perform elementwise comparison\n",
      "  return bool(asarray(a1 == a2).all())\n"
     ]
    },
    {
     "name": "stdout",
     "output_type": "stream",
     "text": [
      "Classification accuracy KNORA-Eliminate:  0.7787878787878788\n"
     ]
    },
    {
     "name": "stderr",
     "output_type": "stream",
     "text": [
      "c:\\Users\\Victor\\AppData\\Local\\Programs\\Python\\Python38-32\\lib\\site-packages\\numpy\\core\\numeric.py:2327: FutureWarning: elementwise comparison failed; returning scalar instead, but in the future will perform elementwise comparison\n",
      "  return bool(asarray(a1 == a2).all())\n"
     ]
    },
    {
     "name": "stdout",
     "output_type": "stream",
     "text": [
      "Classification accuracy META-DES:  0.7924242424242425\n",
      "----------------------------\n",
      "Dataset: mfeat_mor\n"
     ]
    },
    {
     "name": "stderr",
     "output_type": "stream",
     "text": [
      "c:\\Users\\Victor\\AppData\\Local\\Programs\\Python\\Python38-32\\lib\\site-packages\\numpy\\core\\numeric.py:2327: FutureWarning: elementwise comparison failed; returning scalar instead, but in the future will perform elementwise comparison\n",
      "  return bool(asarray(a1 == a2).all())\n"
     ]
    },
    {
     "name": "stdout",
     "output_type": "stream",
     "text": [
      "Classification accuracy KNORA-Eliminate:  0.6439393939393939\n"
     ]
    },
    {
     "name": "stderr",
     "output_type": "stream",
     "text": [
      "c:\\Users\\Victor\\AppData\\Local\\Programs\\Python\\Python38-32\\lib\\site-packages\\numpy\\core\\numeric.py:2327: FutureWarning: elementwise comparison failed; returning scalar instead, but in the future will perform elementwise comparison\n",
      "  return bool(asarray(a1 == a2).all())\n"
     ]
    },
    {
     "name": "stdout",
     "output_type": "stream",
     "text": [
      "Classification accuracy META-DES:  0.693939393939394\n",
      "----------------------------\n",
      "Dataset: mfeat_pix\n"
     ]
    },
    {
     "name": "stderr",
     "output_type": "stream",
     "text": [
      "c:\\Users\\Victor\\AppData\\Local\\Programs\\Python\\Python38-32\\lib\\site-packages\\numpy\\core\\numeric.py:2327: FutureWarning: elementwise comparison failed; returning scalar instead, but in the future will perform elementwise comparison\n",
      "  return bool(asarray(a1 == a2).all())\n"
     ]
    },
    {
     "name": "stdout",
     "output_type": "stream",
     "text": [
      "Classification accuracy KNORA-Eliminate:  0.8787878787878788\n"
     ]
    },
    {
     "name": "stderr",
     "output_type": "stream",
     "text": [
      "c:\\Users\\Victor\\AppData\\Local\\Programs\\Python\\Python38-32\\lib\\site-packages\\numpy\\core\\numeric.py:2327: FutureWarning: elementwise comparison failed; returning scalar instead, but in the future will perform elementwise comparison\n",
      "  return bool(asarray(a1 == a2).all())\n"
     ]
    },
    {
     "name": "stdout",
     "output_type": "stream",
     "text": [
      "Classification accuracy META-DES:  0.9015151515151515\n",
      "----------------------------\n",
      "Dataset: mfeat_zer\n"
     ]
    },
    {
     "name": "stderr",
     "output_type": "stream",
     "text": [
      "c:\\Users\\Victor\\AppData\\Local\\Programs\\Python\\Python38-32\\lib\\site-packages\\numpy\\core\\numeric.py:2327: FutureWarning: elementwise comparison failed; returning scalar instead, but in the future will perform elementwise comparison\n",
      "  return bool(asarray(a1 == a2).all())\n"
     ]
    },
    {
     "name": "stdout",
     "output_type": "stream",
     "text": [
      "Classification accuracy KNORA-Eliminate:  0.6909090909090909\n"
     ]
    },
    {
     "name": "stderr",
     "output_type": "stream",
     "text": [
      "c:\\Users\\Victor\\AppData\\Local\\Programs\\Python\\Python38-32\\lib\\site-packages\\numpy\\core\\numeric.py:2327: FutureWarning: elementwise comparison failed; returning scalar instead, but in the future will perform elementwise comparison\n",
      "  return bool(asarray(a1 == a2).all())\n"
     ]
    },
    {
     "name": "stdout",
     "output_type": "stream",
     "text": [
      "Classification accuracy META-DES:  0.7212121212121212\n",
      "----------------------------\n"
     ]
    }
   ],
   "source": [
    "# Para cada dataset, fazer um aprendizado por KNORA e por META_DES e coletar os outputs\n",
    "# Pra fazer um modelo em pilha pra integração das views\n",
    "\n",
    "sets = [mfeat_fac, mfeat_fou, mfeat_kar, mfeat_mor, mfeat_pix, mfeat_zer]\n",
    "\n",
    "dataset_labels = ['mfeat_fac', 'mfeat_fou', 'mfeat_kar', 'mfeat_mor', 'mfeat_pix', 'mfeat_zer']\n",
    "\n",
    "knora_outputs = {}\n",
    "meta_des_outputs = {}\n",
    "\n",
    "# Array para verificar a consistência dos dados de teste - não precisa mais\n",
    "y_test_arrays = {}\n",
    "\n",
    "scores_knora = {}\n",
    "scores_meta_des = {}\n",
    "\n",
    "for X, name in zip (sets,dataset_labels):\n",
    "    X_train, X_test, X_dsel, y_train, y_test, y_dsel = split_data_ensembles(X, y_data)\n",
    "    print(\"Dataset:\",name)\n",
    "    X_predict_knora, knora_score = ensemble_KNORA(X_train, X_test, X_dsel, y_train, y_test, y_dsel)\n",
    "    X_predict_meta_des, meta_des_score = ensemble_META_DES(X_train, X_test, X_dsel, y_train, y_test, y_dsel)\n",
    "    #assert(y_test_1 == y_test_2)\n",
    "    #assert(target_data == y_test_1)\n",
    "    print(\"----------------------------\")\n",
    "    knora_outputs[name] = X_predict_knora\n",
    "    meta_des_outputs[name] = X_predict_meta_des\n",
    "    scores_knora[name] = knora_score\n",
    "    scores_meta_des[name] = meta_des_score\n",
    "\n",
    "    y_test_arrays[name] = y_test\n",
    "\n",
    "\n",
    "\n",
    "knora_outputs['target'] = y_test\n",
    "meta_des_outputs['target'] = y_test"
   ]
  },
  {
   "cell_type": "code",
   "execution_count": 22,
   "metadata": {},
   "outputs": [
    {
     "data": {
      "text/html": [
       "<div>\n",
       "<style scoped>\n",
       "    .dataframe tbody tr th:only-of-type {\n",
       "        vertical-align: middle;\n",
       "    }\n",
       "\n",
       "    .dataframe tbody tr th {\n",
       "        vertical-align: top;\n",
       "    }\n",
       "\n",
       "    .dataframe thead th {\n",
       "        text-align: right;\n",
       "    }\n",
       "</style>\n",
       "<table border=\"1\" class=\"dataframe\">\n",
       "  <thead>\n",
       "    <tr style=\"text-align: right;\">\n",
       "      <th></th>\n",
       "      <th>mfeat_fac</th>\n",
       "      <th>mfeat_fou</th>\n",
       "      <th>mfeat_kar</th>\n",
       "      <th>mfeat_mor</th>\n",
       "      <th>mfeat_pix</th>\n",
       "      <th>mfeat_zer</th>\n",
       "    </tr>\n",
       "  </thead>\n",
       "  <tbody>\n",
       "    <tr>\n",
       "      <th>0</th>\n",
       "      <td>9</td>\n",
       "      <td>9</td>\n",
       "      <td>9</td>\n",
       "      <td>9</td>\n",
       "      <td>9</td>\n",
       "      <td>9</td>\n",
       "    </tr>\n",
       "    <tr>\n",
       "      <th>1</th>\n",
       "      <td>1</td>\n",
       "      <td>1</td>\n",
       "      <td>1</td>\n",
       "      <td>1</td>\n",
       "      <td>1</td>\n",
       "      <td>1</td>\n",
       "    </tr>\n",
       "    <tr>\n",
       "      <th>2</th>\n",
       "      <td>6</td>\n",
       "      <td>6</td>\n",
       "      <td>6</td>\n",
       "      <td>6</td>\n",
       "      <td>6</td>\n",
       "      <td>6</td>\n",
       "    </tr>\n",
       "    <tr>\n",
       "      <th>3</th>\n",
       "      <td>4</td>\n",
       "      <td>4</td>\n",
       "      <td>4</td>\n",
       "      <td>4</td>\n",
       "      <td>4</td>\n",
       "      <td>4</td>\n",
       "    </tr>\n",
       "    <tr>\n",
       "      <th>4</th>\n",
       "      <td>6</td>\n",
       "      <td>6</td>\n",
       "      <td>6</td>\n",
       "      <td>6</td>\n",
       "      <td>6</td>\n",
       "      <td>6</td>\n",
       "    </tr>\n",
       "    <tr>\n",
       "      <th>...</th>\n",
       "      <td>...</td>\n",
       "      <td>...</td>\n",
       "      <td>...</td>\n",
       "      <td>...</td>\n",
       "      <td>...</td>\n",
       "      <td>...</td>\n",
       "    </tr>\n",
       "    <tr>\n",
       "      <th>655</th>\n",
       "      <td>0</td>\n",
       "      <td>0</td>\n",
       "      <td>0</td>\n",
       "      <td>0</td>\n",
       "      <td>0</td>\n",
       "      <td>0</td>\n",
       "    </tr>\n",
       "    <tr>\n",
       "      <th>656</th>\n",
       "      <td>6</td>\n",
       "      <td>6</td>\n",
       "      <td>6</td>\n",
       "      <td>6</td>\n",
       "      <td>6</td>\n",
       "      <td>6</td>\n",
       "    </tr>\n",
       "    <tr>\n",
       "      <th>657</th>\n",
       "      <td>9</td>\n",
       "      <td>9</td>\n",
       "      <td>9</td>\n",
       "      <td>9</td>\n",
       "      <td>9</td>\n",
       "      <td>9</td>\n",
       "    </tr>\n",
       "    <tr>\n",
       "      <th>658</th>\n",
       "      <td>2</td>\n",
       "      <td>2</td>\n",
       "      <td>2</td>\n",
       "      <td>2</td>\n",
       "      <td>2</td>\n",
       "      <td>2</td>\n",
       "    </tr>\n",
       "    <tr>\n",
       "      <th>659</th>\n",
       "      <td>2</td>\n",
       "      <td>2</td>\n",
       "      <td>2</td>\n",
       "      <td>2</td>\n",
       "      <td>2</td>\n",
       "      <td>2</td>\n",
       "    </tr>\n",
       "  </tbody>\n",
       "</table>\n",
       "<p>660 rows × 6 columns</p>\n",
       "</div>"
      ],
      "text/plain": [
       "    mfeat_fac mfeat_fou mfeat_kar mfeat_mor mfeat_pix mfeat_zer\n",
       "0           9         9         9         9         9         9\n",
       "1           1         1         1         1         1         1\n",
       "2           6         6         6         6         6         6\n",
       "3           4         4         4         4         4         4\n",
       "4           6         6         6         6         6         6\n",
       "..        ...       ...       ...       ...       ...       ...\n",
       "655         0         0         0         0         0         0\n",
       "656         6         6         6         6         6         6\n",
       "657         9         9         9         9         9         9\n",
       "658         2         2         2         2         2         2\n",
       "659         2         2         2         2         2         2\n",
       "\n",
       "[660 rows x 6 columns]"
      ]
     },
     "execution_count": 22,
     "metadata": {},
     "output_type": "execute_result"
    }
   ],
   "source": [
    "y_test_arrays = pd.DataFrame(y_test_arrays)\n",
    "y_test_arrays"
   ]
  },
  {
   "cell_type": "markdown",
   "metadata": {},
   "source": [
    "### Construção de datasets sintéticos para generalização em pilha"
   ]
  },
  {
   "cell_type": "code",
   "execution_count": 23,
   "metadata": {},
   "outputs": [
    {
     "name": "stdout",
     "output_type": "stream",
     "text": [
      "<class 'pandas.core.frame.DataFrame'>\n",
      "RangeIndex: 660 entries, 0 to 659\n",
      "Data columns (total 7 columns):\n",
      " #   Column     Non-Null Count  Dtype \n",
      "---  ------     --------------  ----- \n",
      " 0   mfeat_fac  660 non-null    object\n",
      " 1   mfeat_fou  660 non-null    object\n",
      " 2   mfeat_kar  660 non-null    object\n",
      " 3   mfeat_mor  660 non-null    object\n",
      " 4   mfeat_pix  660 non-null    object\n",
      " 5   mfeat_zer  660 non-null    object\n",
      " 6   target     660 non-null    object\n",
      "dtypes: object(7)\n",
      "memory usage: 18.1+ KB\n"
     ]
    }
   ],
   "source": [
    "knora_df = pd.DataFrame(knora_outputs)\n",
    "knora_df.info()"
   ]
  },
  {
   "cell_type": "code",
   "execution_count": 24,
   "metadata": {},
   "outputs": [
    {
     "name": "stdout",
     "output_type": "stream",
     "text": [
      "<class 'pandas.core.frame.DataFrame'>\n",
      "RangeIndex: 660 entries, 0 to 659\n",
      "Data columns (total 7 columns):\n",
      " #   Column     Non-Null Count  Dtype \n",
      "---  ------     --------------  ----- \n",
      " 0   mfeat_fac  660 non-null    object\n",
      " 1   mfeat_fou  660 non-null    object\n",
      " 2   mfeat_kar  660 non-null    object\n",
      " 3   mfeat_mor  660 non-null    object\n",
      " 4   mfeat_pix  660 non-null    object\n",
      " 5   mfeat_zer  660 non-null    object\n",
      " 6   target     660 non-null    object\n",
      "dtypes: object(7)\n",
      "memory usage: 18.1+ KB\n"
     ]
    }
   ],
   "source": [
    "meta_des_df = pd.DataFrame(meta_des_outputs)\n",
    "meta_des_df.info()"
   ]
  },
  {
   "cell_type": "markdown",
   "metadata": {},
   "source": [
    "### Generalização em pilha KNORA"
   ]
  },
  {
   "cell_type": "code",
   "execution_count": 25,
   "metadata": {},
   "outputs": [
    {
     "name": "stdout",
     "output_type": "stream",
     "text": [
      "0.7889908256880734\n"
     ]
    }
   ],
   "source": [
    "from sklearn import svm\n",
    "#clf = svm.SVC(decision_function_shape='ovo')\n",
    "\n",
    "# ovo = one versus one\n",
    "# ovr = one versus rest (one vs all)\n",
    "dataset = knora_df\n",
    "\n",
    "X, y = dataset.drop(columns=\"target\"), dataset[\"target\"]\n",
    "X_train, X_test, y_train, y_test = train_test_split(X, y, test_size=0.33,\n",
    "                                                      random_state=42)\n",
    "clf = svm.SVC(decision_function_shape='ovo')\n",
    "clf.fit(X_train, y_train)\n",
    "score = clf.score(X_test,y_test)\n",
    "print(score)\n",
    "\n",
    "\n",
    "scores_knora[\"stacked\"] = score"
   ]
  },
  {
   "cell_type": "markdown",
   "metadata": {},
   "source": [
    "### Generalização em pilha META-DES"
   ]
  },
  {
   "cell_type": "code",
   "execution_count": 26,
   "metadata": {},
   "outputs": [
    {
     "name": "stdout",
     "output_type": "stream",
     "text": [
      "0.8394495412844036\n"
     ]
    }
   ],
   "source": [
    "dataset = meta_des_df\n",
    "\n",
    "X, y = dataset.drop(columns=\"target\"), dataset[\"target\"]\n",
    "X_train, X_test, y_train, y_test = train_test_split(X, y, test_size=0.33,\n",
    "                                                      random_state=42)\n",
    "clf = svm.SVC(decision_function_shape='ovo')\n",
    "clf.fit(X_train, y_train)\n",
    "score = clf.score(X_test,y_test)\n",
    "print(score)\n",
    "\n",
    "scores_meta_des[\"stacked\"] = score"
   ]
  },
  {
   "cell_type": "code",
   "execution_count": 27,
   "metadata": {},
   "outputs": [
    {
     "data": {
      "text/plain": [
       "{'mfeat_fac': 0.8469696969696969,\n",
       " 'mfeat_fou': 0.6893939393939394,\n",
       " 'mfeat_kar': 0.7787878787878788,\n",
       " 'mfeat_mor': 0.6439393939393939,\n",
       " 'mfeat_pix': 0.8787878787878788,\n",
       " 'mfeat_zer': 0.6909090909090909,\n",
       " 'stacked': 0.7889908256880734}"
      ]
     },
     "execution_count": 27,
     "metadata": {},
     "output_type": "execute_result"
    }
   ],
   "source": [
    "scores_knora"
   ]
  },
  {
   "cell_type": "code",
   "execution_count": 28,
   "metadata": {},
   "outputs": [
    {
     "data": {
      "text/plain": [
       "{'mfeat_fac': 0.9045454545454545,\n",
       " 'mfeat_fou': 0.7075757575757575,\n",
       " 'mfeat_kar': 0.7924242424242425,\n",
       " 'mfeat_mor': 0.693939393939394,\n",
       " 'mfeat_pix': 0.9015151515151515,\n",
       " 'mfeat_zer': 0.7212121212121212,\n",
       " 'stacked': 0.8394495412844036}"
      ]
     },
     "execution_count": 28,
     "metadata": {},
     "output_type": "execute_result"
    }
   ],
   "source": [
    "scores_meta_des"
   ]
  },
  {
   "cell_type": "markdown",
   "metadata": {},
   "source": [
    "## Generalização em pilha eliminando a visão mais complexa"
   ]
  },
  {
   "cell_type": "code",
   "execution_count": 29,
   "metadata": {},
   "outputs": [
    {
     "name": "stdout",
     "output_type": "stream",
     "text": [
      "f1.mean 1 mfeat_fou\n",
      "l1.mean 3 mfeat_mor\n",
      "l2.mean 3 mfeat_mor\n",
      "l3.mean 3 mfeat_mor\n",
      "n1 3 mfeat_mor\n",
      "n3.mean 3 mfeat_mor\n"
     ]
    }
   ],
   "source": [
    "for key in data.keys():\n",
    "    measure_list = data[key]\n",
    "    if not any(measure_list.isna()):\n",
    "        index = 0    #ind variable to store the index of maximum value in the list\n",
    "        max_measure = measure_list[0]\n",
    "\n",
    "        for i in range (1,len(measure_list)): #iterate over array\n",
    "          if measure_list[i] > max_measure: #to check max value\n",
    "            max_measure = measure_list[i]\n",
    "            index = i\n",
    "        \n",
    "        print(key, index, dataset_labels[index])"
   ]
  },
  {
   "cell_type": "code",
   "execution_count": 30,
   "metadata": {},
   "outputs": [
    {
     "data": {
      "text/html": [
       "<div>\n",
       "<style scoped>\n",
       "    .dataframe tbody tr th:only-of-type {\n",
       "        vertical-align: middle;\n",
       "    }\n",
       "\n",
       "    .dataframe tbody tr th {\n",
       "        vertical-align: top;\n",
       "    }\n",
       "\n",
       "    .dataframe thead th {\n",
       "        text-align: right;\n",
       "    }\n",
       "</style>\n",
       "<table border=\"1\" class=\"dataframe\">\n",
       "  <thead>\n",
       "    <tr style=\"text-align: right;\">\n",
       "      <th></th>\n",
       "      <th>mfeat_fac</th>\n",
       "      <th>mfeat_fou</th>\n",
       "      <th>mfeat_kar</th>\n",
       "      <th>mfeat_mor</th>\n",
       "      <th>mfeat_pix</th>\n",
       "      <th>mfeat_zer</th>\n",
       "      <th>target</th>\n",
       "    </tr>\n",
       "  </thead>\n",
       "  <tbody>\n",
       "    <tr>\n",
       "      <th>0</th>\n",
       "      <td>9</td>\n",
       "      <td>9</td>\n",
       "      <td>9</td>\n",
       "      <td>6</td>\n",
       "      <td>9</td>\n",
       "      <td>5</td>\n",
       "      <td>9</td>\n",
       "    </tr>\n",
       "    <tr>\n",
       "      <th>1</th>\n",
       "      <td>1</td>\n",
       "      <td>1</td>\n",
       "      <td>1</td>\n",
       "      <td>4</td>\n",
       "      <td>1</td>\n",
       "      <td>1</td>\n",
       "      <td>1</td>\n",
       "    </tr>\n",
       "    <tr>\n",
       "      <th>2</th>\n",
       "      <td>6</td>\n",
       "      <td>6</td>\n",
       "      <td>6</td>\n",
       "      <td>9</td>\n",
       "      <td>6</td>\n",
       "      <td>6</td>\n",
       "      <td>6</td>\n",
       "    </tr>\n",
       "    <tr>\n",
       "      <th>3</th>\n",
       "      <td>4</td>\n",
       "      <td>4</td>\n",
       "      <td>4</td>\n",
       "      <td>7</td>\n",
       "      <td>2</td>\n",
       "      <td>4</td>\n",
       "      <td>4</td>\n",
       "    </tr>\n",
       "    <tr>\n",
       "      <th>4</th>\n",
       "      <td>6</td>\n",
       "      <td>6</td>\n",
       "      <td>6</td>\n",
       "      <td>6</td>\n",
       "      <td>6</td>\n",
       "      <td>6</td>\n",
       "      <td>6</td>\n",
       "    </tr>\n",
       "    <tr>\n",
       "      <th>...</th>\n",
       "      <td>...</td>\n",
       "      <td>...</td>\n",
       "      <td>...</td>\n",
       "      <td>...</td>\n",
       "      <td>...</td>\n",
       "      <td>...</td>\n",
       "      <td>...</td>\n",
       "    </tr>\n",
       "    <tr>\n",
       "      <th>655</th>\n",
       "      <td>0</td>\n",
       "      <td>0</td>\n",
       "      <td>0</td>\n",
       "      <td>0</td>\n",
       "      <td>0</td>\n",
       "      <td>0</td>\n",
       "      <td>0</td>\n",
       "    </tr>\n",
       "    <tr>\n",
       "      <th>656</th>\n",
       "      <td>6</td>\n",
       "      <td>9</td>\n",
       "      <td>4</td>\n",
       "      <td>6</td>\n",
       "      <td>6</td>\n",
       "      <td>6</td>\n",
       "      <td>6</td>\n",
       "    </tr>\n",
       "    <tr>\n",
       "      <th>657</th>\n",
       "      <td>9</td>\n",
       "      <td>8</td>\n",
       "      <td>0</td>\n",
       "      <td>6</td>\n",
       "      <td>9</td>\n",
       "      <td>9</td>\n",
       "      <td>9</td>\n",
       "    </tr>\n",
       "    <tr>\n",
       "      <th>658</th>\n",
       "      <td>2</td>\n",
       "      <td>1</td>\n",
       "      <td>2</td>\n",
       "      <td>6</td>\n",
       "      <td>2</td>\n",
       "      <td>2</td>\n",
       "      <td>2</td>\n",
       "    </tr>\n",
       "    <tr>\n",
       "      <th>659</th>\n",
       "      <td>2</td>\n",
       "      <td>2</td>\n",
       "      <td>2</td>\n",
       "      <td>5</td>\n",
       "      <td>7</td>\n",
       "      <td>2</td>\n",
       "      <td>2</td>\n",
       "    </tr>\n",
       "  </tbody>\n",
       "</table>\n",
       "<p>660 rows × 7 columns</p>\n",
       "</div>"
      ],
      "text/plain": [
       "    mfeat_fac mfeat_fou mfeat_kar mfeat_mor mfeat_pix mfeat_zer target\n",
       "0           9         9         9         6         9         5      9\n",
       "1           1         1         1         4         1         1      1\n",
       "2           6         6         6         9         6         6      6\n",
       "3           4         4         4         7         2         4      4\n",
       "4           6         6         6         6         6         6      6\n",
       "..        ...       ...       ...       ...       ...       ...    ...\n",
       "655         0         0         0         0         0         0      0\n",
       "656         6         9         4         6         6         6      6\n",
       "657         9         8         0         6         9         9      9\n",
       "658         2         1         2         6         2         2      2\n",
       "659         2         2         2         5         7         2      2\n",
       "\n",
       "[660 rows x 7 columns]"
      ]
     },
     "execution_count": 30,
     "metadata": {},
     "output_type": "execute_result"
    }
   ],
   "source": [
    "knora_df"
   ]
  },
  {
   "cell_type": "markdown",
   "metadata": {},
   "source": [
    "#### Eliminando o dataset mfeat_fou"
   ]
  },
  {
   "cell_type": "code",
   "execution_count": 31,
   "metadata": {},
   "outputs": [
    {
     "name": "stdout",
     "output_type": "stream",
     "text": [
      "0.7889908256880734\n"
     ]
    }
   ],
   "source": [
    "dataset = knora_df.drop(columns = \"mfeat_fou\")\n",
    "\n",
    "X, y = dataset.drop(columns=\"target\"), dataset[\"target\"]\n",
    "X_train, X_test, y_train, y_test = train_test_split(X, y, test_size=0.33,\n",
    "                                                      random_state=42)\n",
    "clf = svm.SVC(decision_function_shape='ovo')\n",
    "clf.fit(X_train, y_train)\n",
    "score = clf.score(X_test,y_test)\n",
    "print(score)\n",
    "\n",
    "scores_knora[\"stacked_drop_fou\"] = score"
   ]
  },
  {
   "cell_type": "code",
   "execution_count": 32,
   "metadata": {},
   "outputs": [
    {
     "name": "stdout",
     "output_type": "stream",
     "text": [
      "0.8532110091743119\n"
     ]
    }
   ],
   "source": [
    "dataset = meta_des_df.drop(columns = \"mfeat_fou\")\n",
    "\n",
    "X, y = dataset.drop(columns=\"target\"), dataset[\"target\"]\n",
    "X_train, X_test, y_train, y_test = train_test_split(X, y, test_size=0.33,\n",
    "                                                      random_state=42)\n",
    "clf = svm.SVC(decision_function_shape='ovo')\n",
    "clf.fit(X_train, y_train)\n",
    "score = clf.score(X_test,y_test)\n",
    "print(score)\n",
    "\n",
    "scores_meta_des[\"stacked_drop_fou\"] = score"
   ]
  },
  {
   "cell_type": "markdown",
   "metadata": {},
   "source": [
    "### Eliminando o dataset mfeat_mor"
   ]
  },
  {
   "cell_type": "code",
   "execution_count": 33,
   "metadata": {},
   "outputs": [
    {
     "name": "stdout",
     "output_type": "stream",
     "text": [
      "0.7889908256880734\n"
     ]
    }
   ],
   "source": [
    "dataset = knora_df.drop(columns = \"mfeat_fou\")\n",
    "\n",
    "X, y = dataset.drop(columns=\"target\"), dataset[\"target\"]\n",
    "X_train, X_test, y_train, y_test = train_test_split(X, y, test_size=0.33,\n",
    "                                                      random_state=42)\n",
    "clf = svm.SVC(decision_function_shape='ovo')\n",
    "clf.fit(X_train, y_train)\n",
    "score = clf.score(X_test,y_test)\n",
    "print(score)\n",
    "\n",
    "scores_knora[\"stacked_drop_mor\"] = score"
   ]
  },
  {
   "cell_type": "code",
   "execution_count": 34,
   "metadata": {},
   "outputs": [
    {
     "name": "stdout",
     "output_type": "stream",
     "text": [
      "0.8532110091743119\n"
     ]
    }
   ],
   "source": [
    "dataset = meta_des_df.drop(columns = \"mfeat_fou\")\n",
    "\n",
    "X, y = dataset.drop(columns=\"target\"), dataset[\"target\"]\n",
    "X_train, X_test, y_train, y_test = train_test_split(X, y, test_size=0.33,\n",
    "                                                      random_state=42)\n",
    "clf = svm.SVC(decision_function_shape='ovo')\n",
    "clf.fit(X_train, y_train)\n",
    "score = clf.score(X_test,y_test)\n",
    "print(score)\n",
    "\n",
    "scores_meta_des[\"stacked_drop_mor\"] = score"
   ]
  },
  {
   "cell_type": "code",
   "execution_count": 35,
   "metadata": {},
   "outputs": [
    {
     "data": {
      "text/plain": [
       "{'mfeat_fac': 0.8469696969696969,\n",
       " 'mfeat_fou': 0.6893939393939394,\n",
       " 'mfeat_kar': 0.7787878787878788,\n",
       " 'mfeat_mor': 0.6439393939393939,\n",
       " 'mfeat_pix': 0.8787878787878788,\n",
       " 'mfeat_zer': 0.6909090909090909,\n",
       " 'stacked': 0.7889908256880734,\n",
       " 'stacked_drop_fou': 0.7889908256880734,\n",
       " 'stacked_drop_mor': 0.7889908256880734}"
      ]
     },
     "execution_count": 35,
     "metadata": {},
     "output_type": "execute_result"
    }
   ],
   "source": [
    "scores_knora"
   ]
  },
  {
   "cell_type": "code",
   "execution_count": 39,
   "metadata": {},
   "outputs": [
    {
     "data": {
      "text/plain": [
       "dict"
      ]
     },
     "execution_count": 39,
     "metadata": {},
     "output_type": "execute_result"
    }
   ],
   "source": [
    "type(scores_meta_des)"
   ]
  },
  {
   "cell_type": "code",
   "execution_count": 53,
   "metadata": {},
   "outputs": [
    {
     "data": {
      "image/png": "[encoded data removed]",
      "text/plain": [
       "<Figure size 432x288 with 1 Axes>"
      ]
     },
     "metadata": {
      "needs_background": "light"
     },
     "output_type": "display_data"
    }
   ],
   "source": [
    "results_DES = pd.concat([pd.DataFrame(list(scores_meta_des.values()), \n",
    "                                     index = scores_meta_des.keys(),\n",
    "                                     columns = [\"meta_des\"]),\n",
    "                        pd.DataFrame(list(scores_knora.values()), \n",
    "                                     index = scores_knora.keys(),\n",
    "                                     columns = [\"knora\"])],\n",
    "                        axis = 1)\n",
    "\n",
    "# Disposição em diagramas do tipo heatmap\n",
    "ax = sns.heatmap(results_DES,\n",
    "                 annot=True,\n",
    "                 cbar=False,\n",
    "                 cmap=\"Reds\",\n",
    "                 xticklabels=True,\n",
    "                 yticklabels=True,\n",
    "                 linewidth=.5)\n",
    "ax.set_xticklabels(ax.get_xticklabels(), rotation=0)\n",
    "ax.set_yticklabels(ax.get_yticklabels(), rotation=0)\n",
    "plt.title(\"Scores\")\n",
    "plt.xlabel(\"Dynamic Selection Method\")\n",
    "plt.ylabel(\"Single Dataset/Strategy\")\n",
    "plt.show()\n",
    "\n",
    "results_DES.to_csv(\"scores.csv\")"
   ]
  },
  {
   "cell_type": "code",
   "execution_count": 40,
   "metadata": {},
   "outputs": [
    {
     "ename": "ValueError",
     "evalue": "If using all scalar values, you must pass an index",
     "output_type": "error",
     "traceback": [
      "\u001b[1;31m---------------------------------------------------------------------------\u001b[0m",
      "\u001b[1;31mValueError\u001b[0m                                Traceback (most recent call last)",
      "\u001b[1;32m<ipython-input-40-52207fcaea3f>\u001b[0m in \u001b[0;36m<module>\u001b[1;34m\u001b[0m\n\u001b[1;32m----> 1\u001b[1;33m \u001b[0mresults_DES\u001b[0m \u001b[1;33m=\u001b[0m \u001b[0mpd\u001b[0m\u001b[1;33m.\u001b[0m\u001b[0mconcat\u001b[0m\u001b[1;33m(\u001b[0m\u001b[0mpd\u001b[0m\u001b[1;33m.\u001b[0m\u001b[0mDataFrame\u001b[0m\u001b[1;33m(\u001b[0m\u001b[0mscores_meta_des\u001b[0m\u001b[1;33m)\u001b[0m\u001b[1;33m,\u001b[0m\u001b[0mpd\u001b[0m\u001b[1;33m.\u001b[0m\u001b[0mDataFrame\u001b[0m\u001b[1;33m(\u001b[0m\u001b[0mscores_knora\u001b[0m\u001b[1;33m)\u001b[0m\u001b[1;33m,\u001b[0m \u001b[0maxis\u001b[0m \u001b[1;33m=\u001b[0m \u001b[1;36m1\u001b[0m\u001b[1;33m)\u001b[0m\u001b[1;33m\u001b[0m\u001b[1;33m\u001b[0m\u001b[0m\n\u001b[0m",
      "\u001b[1;32mc:\\Users\\Victor\\AppData\\Local\\Programs\\Python\\Python38-32\\lib\\site-packages\\pandas\\core\\frame.py\u001b[0m in \u001b[0;36m__init__\u001b[1;34m(self, data, index, columns, dtype, copy)\u001b[0m\n\u001b[0;32m    433\u001b[0m             )\n\u001b[0;32m    434\u001b[0m         \u001b[1;32melif\u001b[0m \u001b[0misinstance\u001b[0m\u001b[1;33m(\u001b[0m\u001b[0mdata\u001b[0m\u001b[1;33m,\u001b[0m \u001b[0mdict\u001b[0m\u001b[1;33m)\u001b[0m\u001b[1;33m:\u001b[0m\u001b[1;33m\u001b[0m\u001b[1;33m\u001b[0m\u001b[0m\n\u001b[1;32m--> 435\u001b[1;33m             \u001b[0mmgr\u001b[0m \u001b[1;33m=\u001b[0m \u001b[0minit_dict\u001b[0m\u001b[1;33m(\u001b[0m\u001b[0mdata\u001b[0m\u001b[1;33m,\u001b[0m \u001b[0mindex\u001b[0m\u001b[1;33m,\u001b[0m \u001b[0mcolumns\u001b[0m\u001b[1;33m,\u001b[0m \u001b[0mdtype\u001b[0m\u001b[1;33m=\u001b[0m\u001b[0mdtype\u001b[0m\u001b[1;33m)\u001b[0m\u001b[1;33m\u001b[0m\u001b[1;33m\u001b[0m\u001b[0m\n\u001b[0m\u001b[0;32m    436\u001b[0m         \u001b[1;32melif\u001b[0m \u001b[0misinstance\u001b[0m\u001b[1;33m(\u001b[0m\u001b[0mdata\u001b[0m\u001b[1;33m,\u001b[0m \u001b[0mma\u001b[0m\u001b[1;33m.\u001b[0m\u001b[0mMaskedArray\u001b[0m\u001b[1;33m)\u001b[0m\u001b[1;33m:\u001b[0m\u001b[1;33m\u001b[0m\u001b[1;33m\u001b[0m\u001b[0m\n\u001b[0;32m    437\u001b[0m             \u001b[1;32mimport\u001b[0m \u001b[0mnumpy\u001b[0m\u001b[1;33m.\u001b[0m\u001b[0mma\u001b[0m\u001b[1;33m.\u001b[0m\u001b[0mmrecords\u001b[0m \u001b[1;32mas\u001b[0m \u001b[0mmrecords\u001b[0m\u001b[1;33m\u001b[0m\u001b[1;33m\u001b[0m\u001b[0m\n",
      "\u001b[1;32mc:\\Users\\Victor\\AppData\\Local\\Programs\\Python\\Python38-32\\lib\\site-packages\\pandas\\core\\internals\\construction.py\u001b[0m in \u001b[0;36minit_dict\u001b[1;34m(data, index, columns, dtype)\u001b[0m\n\u001b[0;32m    252\u001b[0m             \u001b[0marr\u001b[0m \u001b[1;32mif\u001b[0m \u001b[1;32mnot\u001b[0m \u001b[0mis_datetime64tz_dtype\u001b[0m\u001b[1;33m(\u001b[0m\u001b[0marr\u001b[0m\u001b[1;33m)\u001b[0m \u001b[1;32melse\u001b[0m \u001b[0marr\u001b[0m\u001b[1;33m.\u001b[0m\u001b[0mcopy\u001b[0m\u001b[1;33m(\u001b[0m\u001b[1;33m)\u001b[0m \u001b[1;32mfor\u001b[0m \u001b[0marr\u001b[0m \u001b[1;32min\u001b[0m \u001b[0marrays\u001b[0m\u001b[1;33m\u001b[0m\u001b[1;33m\u001b[0m\u001b[0m\n\u001b[0;32m    253\u001b[0m         ]\n\u001b[1;32m--> 254\u001b[1;33m     \u001b[1;32mreturn\u001b[0m \u001b[0marrays_to_mgr\u001b[0m\u001b[1;33m(\u001b[0m\u001b[0marrays\u001b[0m\u001b[1;33m,\u001b[0m \u001b[0mdata_names\u001b[0m\u001b[1;33m,\u001b[0m \u001b[0mindex\u001b[0m\u001b[1;33m,\u001b[0m \u001b[0mcolumns\u001b[0m\u001b[1;33m,\u001b[0m \u001b[0mdtype\u001b[0m\u001b[1;33m=\u001b[0m\u001b[0mdtype\u001b[0m\u001b[1;33m)\u001b[0m\u001b[1;33m\u001b[0m\u001b[1;33m\u001b[0m\u001b[0m\n\u001b[0m\u001b[0;32m    255\u001b[0m \u001b[1;33m\u001b[0m\u001b[0m\n\u001b[0;32m    256\u001b[0m \u001b[1;33m\u001b[0m\u001b[0m\n",
      "\u001b[1;32mc:\\Users\\Victor\\AppData\\Local\\Programs\\Python\\Python38-32\\lib\\site-packages\\pandas\\core\\internals\\construction.py\u001b[0m in \u001b[0;36marrays_to_mgr\u001b[1;34m(arrays, arr_names, index, columns, dtype)\u001b[0m\n\u001b[0;32m     62\u001b[0m     \u001b[1;31m# figure out the index, if necessary\u001b[0m\u001b[1;33m\u001b[0m\u001b[1;33m\u001b[0m\u001b[1;33m\u001b[0m\u001b[0m\n\u001b[0;32m     63\u001b[0m     \u001b[1;32mif\u001b[0m \u001b[0mindex\u001b[0m \u001b[1;32mis\u001b[0m \u001b[1;32mNone\u001b[0m\u001b[1;33m:\u001b[0m\u001b[1;33m\u001b[0m\u001b[1;33m\u001b[0m\u001b[0m\n\u001b[1;32m---> 64\u001b[1;33m         \u001b[0mindex\u001b[0m \u001b[1;33m=\u001b[0m \u001b[0mextract_index\u001b[0m\u001b[1;33m(\u001b[0m\u001b[0marrays\u001b[0m\u001b[1;33m)\u001b[0m\u001b[1;33m\u001b[0m\u001b[1;33m\u001b[0m\u001b[0m\n\u001b[0m\u001b[0;32m     65\u001b[0m     \u001b[1;32melse\u001b[0m\u001b[1;33m:\u001b[0m\u001b[1;33m\u001b[0m\u001b[1;33m\u001b[0m\u001b[0m\n\u001b[0;32m     66\u001b[0m         \u001b[0mindex\u001b[0m \u001b[1;33m=\u001b[0m \u001b[0mensure_index\u001b[0m\u001b[1;33m(\u001b[0m\u001b[0mindex\u001b[0m\u001b[1;33m)\u001b[0m\u001b[1;33m\u001b[0m\u001b[1;33m\u001b[0m\u001b[0m\n",
      "\u001b[1;32mc:\\Users\\Victor\\AppData\\Local\\Programs\\Python\\Python38-32\\lib\\site-packages\\pandas\\core\\internals\\construction.py\u001b[0m in \u001b[0;36mextract_index\u001b[1;34m(data)\u001b[0m\n\u001b[0;32m    353\u001b[0m \u001b[1;33m\u001b[0m\u001b[0m\n\u001b[0;32m    354\u001b[0m         \u001b[1;32mif\u001b[0m \u001b[1;32mnot\u001b[0m \u001b[0mindexes\u001b[0m \u001b[1;32mand\u001b[0m \u001b[1;32mnot\u001b[0m \u001b[0mraw_lengths\u001b[0m\u001b[1;33m:\u001b[0m\u001b[1;33m\u001b[0m\u001b[1;33m\u001b[0m\u001b[0m\n\u001b[1;32m--> 355\u001b[1;33m             \u001b[1;32mraise\u001b[0m \u001b[0mValueError\u001b[0m\u001b[1;33m(\u001b[0m\u001b[1;34m\"If using all scalar values, you must pass an index\"\u001b[0m\u001b[1;33m)\u001b[0m\u001b[1;33m\u001b[0m\u001b[1;33m\u001b[0m\u001b[0m\n\u001b[0m\u001b[0;32m    356\u001b[0m \u001b[1;33m\u001b[0m\u001b[0m\n\u001b[0;32m    357\u001b[0m         \u001b[1;32mif\u001b[0m \u001b[0mhave_series\u001b[0m\u001b[1;33m:\u001b[0m\u001b[1;33m\u001b[0m\u001b[1;33m\u001b[0m\u001b[0m\n",
      "\u001b[1;31mValueError\u001b[0m: If using all scalar values, you must pass an index"
     ]
    }
   ],
   "source": [
    "results_DES = pd.concat(pd.DataFrame(scores_meta_des),pd.DataFrame(scores_knora), axis = 1)"
   ]
  },
  {
   "cell_type": "code",
   "execution_count": null,
   "metadata": {},
   "outputs": [
    {
     "data": {
      "text/html": [
       "<div>\n",
       "<style scoped>\n",
       "    .dataframe tbody tr th:only-of-type {\n",
       "        vertical-align: middle;\n",
       "    }\n",
       "\n",
       "    .dataframe tbody tr th {\n",
       "        vertical-align: top;\n",
       "    }\n",
       "\n",
       "    .dataframe thead th {\n",
       "        text-align: right;\n",
       "    }\n",
       "</style>\n",
       "<table border=\"1\" class=\"dataframe\">\n",
       "  <thead>\n",
       "    <tr style=\"text-align: right;\">\n",
       "      <th></th>\n",
       "      <th>mfeat_fac</th>\n",
       "      <th>mfeat_kar</th>\n",
       "      <th>mfeat_mor</th>\n",
       "      <th>mfeat_pix</th>\n",
       "      <th>mfeat_zer</th>\n",
       "      <th>target</th>\n",
       "    </tr>\n",
       "  </thead>\n",
       "  <tbody>\n",
       "    <tr>\n",
       "      <th>0</th>\n",
       "      <td>9</td>\n",
       "      <td>9</td>\n",
       "      <td>9</td>\n",
       "      <td>9</td>\n",
       "      <td>6</td>\n",
       "      <td>9</td>\n",
       "    </tr>\n",
       "    <tr>\n",
       "      <th>1</th>\n",
       "      <td>1</td>\n",
       "      <td>1</td>\n",
       "      <td>1</td>\n",
       "      <td>1</td>\n",
       "      <td>1</td>\n",
       "      <td>1</td>\n",
       "    </tr>\n",
       "    <tr>\n",
       "      <th>2</th>\n",
       "      <td>6</td>\n",
       "      <td>4</td>\n",
       "      <td>6</td>\n",
       "      <td>6</td>\n",
       "      <td>6</td>\n",
       "      <td>6</td>\n",
       "    </tr>\n",
       "    <tr>\n",
       "      <th>3</th>\n",
       "      <td>4</td>\n",
       "      <td>2</td>\n",
       "      <td>4</td>\n",
       "      <td>8</td>\n",
       "      <td>4</td>\n",
       "      <td>4</td>\n",
       "    </tr>\n",
       "    <tr>\n",
       "      <th>4</th>\n",
       "      <td>6</td>\n",
       "      <td>6</td>\n",
       "      <td>9</td>\n",
       "      <td>6</td>\n",
       "      <td>4</td>\n",
       "      <td>6</td>\n",
       "    </tr>\n",
       "    <tr>\n",
       "      <th>...</th>\n",
       "      <td>...</td>\n",
       "      <td>...</td>\n",
       "      <td>...</td>\n",
       "      <td>...</td>\n",
       "      <td>...</td>\n",
       "      <td>...</td>\n",
       "    </tr>\n",
       "    <tr>\n",
       "      <th>655</th>\n",
       "      <td>0</td>\n",
       "      <td>0</td>\n",
       "      <td>0</td>\n",
       "      <td>0</td>\n",
       "      <td>0</td>\n",
       "      <td>0</td>\n",
       "    </tr>\n",
       "    <tr>\n",
       "      <th>656</th>\n",
       "      <td>6</td>\n",
       "      <td>4</td>\n",
       "      <td>6</td>\n",
       "      <td>6</td>\n",
       "      <td>9</td>\n",
       "      <td>6</td>\n",
       "    </tr>\n",
       "    <tr>\n",
       "      <th>657</th>\n",
       "      <td>8</td>\n",
       "      <td>9</td>\n",
       "      <td>6</td>\n",
       "      <td>9</td>\n",
       "      <td>9</td>\n",
       "      <td>9</td>\n",
       "    </tr>\n",
       "    <tr>\n",
       "      <th>658</th>\n",
       "      <td>2</td>\n",
       "      <td>2</td>\n",
       "      <td>6</td>\n",
       "      <td>2</td>\n",
       "      <td>2</td>\n",
       "      <td>2</td>\n",
       "    </tr>\n",
       "    <tr>\n",
       "      <th>659</th>\n",
       "      <td>2</td>\n",
       "      <td>2</td>\n",
       "      <td>2</td>\n",
       "      <td>2</td>\n",
       "      <td>2</td>\n",
       "      <td>2</td>\n",
       "    </tr>\n",
       "  </tbody>\n",
       "</table>\n",
       "<p>660 rows × 6 columns</p>\n",
       "</div>"
      ],
      "text/plain": [
       "    mfeat_fac mfeat_kar mfeat_mor mfeat_pix mfeat_zer target\n",
       "0           9         9         9         9         6      9\n",
       "1           1         1         1         1         1      1\n",
       "2           6         4         6         6         6      6\n",
       "3           4         2         4         8         4      4\n",
       "4           6         6         9         6         4      6\n",
       "..        ...       ...       ...       ...       ...    ...\n",
       "655         0         0         0         0         0      0\n",
       "656         6         4         6         6         9      6\n",
       "657         8         9         6         9         9      9\n",
       "658         2         2         6         2         2      2\n",
       "659         2         2         2         2         2      2\n",
       "\n",
       "[660 rows x 6 columns]"
      ]
     },
     "execution_count": 119,
     "metadata": {},
     "output_type": "execute_result"
    }
   ],
   "source": [
    "dataset = meta_des_df.drop(columns = \"mfeat_fou\")\n",
    "dataset"
   ]
  },
  {
   "cell_type": "markdown",
   "metadata": {},
   "source": [
    "#### Datasets sintéticos dos perfis de saída para cada visão, em relação ao ground truth (y_test)"
   ]
  },
  {
   "cell_type": "code",
   "execution_count": null,
   "metadata": {},
   "outputs": [],
   "source": [
    "output_profiles_meta_des = {}\n",
    "\n",
    "for label in dataset_labels:\n",
    "    output = meta_des_df[label]\n",
    "    target = meta_des_df[\"target\"]\n",
    "    profile = [int(x == y) for x, y in zip (output,target)]\n",
    "    output_profiles_meta_des[label] = profile\n",
    "\n",
    "output_profiles_meta_des[\"target\"] = meta_des_df[\"target\"]\n",
    "\n",
    "#for key in output_profiles_meta_des.keys():\n",
    "#    print(sum(output_profiles_meta_des[key])/len(output_profiles_meta_des[key]))"
   ]
  },
  {
   "cell_type": "code",
   "execution_count": null,
   "metadata": {},
   "outputs": [],
   "source": [
    "#from pycol.complexity import Complexity\n",
    "#import numpy as np\n",
    "#import seaborn as sns\n",
    "#sns.set_style(\"darkgrid\")\n",
    "#\n",
    "#iris = sns.load_dataset('iris')\n",
    "#iris.head()"
   ]
  },
  {
   "cell_type": "code",
   "execution_count": 45,
   "metadata": {},
   "outputs": [
    {
     "data": {
      "text/plain": [
       "dict_values([0.9045454545454545, 0.7075757575757575, 0.7924242424242425, 0.693939393939394, 0.9015151515151515, 0.7212121212121212, 0.8394495412844036, 0.8532110091743119, 0.8532110091743119])"
      ]
     },
     "execution_count": 45,
     "metadata": {},
     "output_type": "execute_result"
    }
   ],
   "source": [
    "scores_meta_des.values()"
   ]
  },
  {
   "cell_type": "code",
   "execution_count": 47,
   "metadata": {},
   "outputs": [
    {
     "data": {
      "text/html": [
       "<div>\n",
       "<style scoped>\n",
       "    .dataframe tbody tr th:only-of-type {\n",
       "        vertical-align: middle;\n",
       "    }\n",
       "\n",
       "    .dataframe tbody tr th {\n",
       "        vertical-align: top;\n",
       "    }\n",
       "\n",
       "    .dataframe thead th {\n",
       "        text-align: right;\n",
       "    }\n",
       "</style>\n",
       "<table border=\"1\" class=\"dataframe\">\n",
       "  <thead>\n",
       "    <tr style=\"text-align: right;\">\n",
       "      <th></th>\n",
       "      <th>0</th>\n",
       "    </tr>\n",
       "  </thead>\n",
       "  <tbody>\n",
       "    <tr>\n",
       "      <th>mfeat_fac</th>\n",
       "      <td>0.904545</td>\n",
       "    </tr>\n",
       "    <tr>\n",
       "      <th>mfeat_fou</th>\n",
       "      <td>0.707576</td>\n",
       "    </tr>\n",
       "    <tr>\n",
       "      <th>mfeat_kar</th>\n",
       "      <td>0.792424</td>\n",
       "    </tr>\n",
       "    <tr>\n",
       "      <th>mfeat_mor</th>\n",
       "      <td>0.693939</td>\n",
       "    </tr>\n",
       "    <tr>\n",
       "      <th>mfeat_pix</th>\n",
       "      <td>0.901515</td>\n",
       "    </tr>\n",
       "  </tbody>\n",
       "</table>\n",
       "</div>"
      ],
      "text/plain": [
       "                  0\n",
       "mfeat_fac  0.904545\n",
       "mfeat_fou  0.707576\n",
       "mfeat_kar  0.792424\n",
       "mfeat_mor  0.693939\n",
       "mfeat_pix  0.901515"
      ]
     },
     "execution_count": 47,
     "metadata": {},
     "output_type": "execute_result"
    }
   ],
   "source": [
    "xxxxxx = pd.DataFrame(list(scores_meta_des.values()), index = scores_meta_des.keys())\n",
    "xxxxxx.head()"
   ]
  }
 ],
 "metadata": {
  "kernelspec": {
   "display_name": "Python 3",
   "language": "python",
   "name": "python3"
  },
  "language_info": {
   "codemirror_mode": {
    "name": "ipython",
    "version": 3
   },
   "file_extension": ".py",
   "mimetype": "text/x-python",
   "name": "python",
   "nbconvert_exporter": "python",
   "pygments_lexer": "ipython3",
   "version": "3.8.3"
  }
 },
 "nbformat": 4,
 "nbformat_minor": 2
}
